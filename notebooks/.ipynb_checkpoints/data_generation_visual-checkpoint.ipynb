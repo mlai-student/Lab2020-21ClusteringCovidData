{
 "cells": [
  {
   "cell_type": "markdown",
   "metadata": {},
   "source": [
    "**Current log file**"
   ]
  },
  {
   "cell_type": "code",
   "execution_count": 25,
   "metadata": {},
   "outputs": [],
   "source": [
    "#PACKAGES\n",
    "import os\n",
    "PROJECT_PATH = os.getcwd().replace(\"notebooks\", \"\")\n",
    "import sys\n",
    "sys.path.append(PROJECT_PATH)\n",
    "from src.data_representation.Examples import load_Examples_from_file"
   ]
  },
  {
   "cell_type": "code",
   "execution_count": 23,
   "metadata": {},
   "outputs": [
    {
     "name": "stdout",
     "output_type": "stream",
     "text": [
      "DEBUG:root:data_generating.Run_data_generating started main\n",
      "DEBUG:root:data_generating.Run_data_generating finished main\n",
      "DEBUG:root:model_training.Run_model_training started main\n",
      "DEBUG:root:model_training.Run_model_training ended main\n",
      "\n"
     ]
    }
   ],
   "source": [
    "#running the project from here wont work since we demand to be in the main directory\n",
    "#Display the log file:\n",
    "\n",
    "log_file =  open(PROJECT_PATH+\"run.log\", \"r\")\n",
    "print(log_file.read())\n",
    "log_file.close()\n",
    "\n",
    "\n",
    "\n"
   ]
  },
  {
   "cell_type": "markdown",
   "metadata": {},
   "source": [
    "**Visualize data_generation output**"
   ]
  },
  {
   "cell_type": "code",
   "execution_count": 31,
   "metadata": {},
   "outputs": [],
   "source": [
    "#name of the folder where the output of the Example class file is located\n",
    "DATA_GEN_FOLDER_NAME = \"Dec-09-2020\"\n",
    "EXAMPLES_DATASET_PATH = PROJECT_PATH + \"data/\" + DATA_GEN_FOLDER_NAME + \"/total_snippets\"\n",
    "\n",
    "snippets = load_Examples_from_file(EXAMPLES_DATASET_PATH)"
   ]
  },
  {
   "cell_type": "code",
   "execution_count": 36,
   "metadata": {},
   "outputs": [
    {
     "name": "stdout",
     "output_type": "stream",
     "text": [
      "Number train examples: 212\n",
      "Number test examples: 0\n"
     ]
    }
   ],
   "source": [
    "print(\"Number train examples: \" + str(len(snippets.train_examples)))\n",
    "print(\"Number test examples: \" + str(len(snippets.test_examples)))"
   ]
  }
 ],
 "metadata": {
  "jupytext": {
   "formats": "ipynb,py:percent"
  },
  "kernelspec": {
   "display_name": "Python 3",
   "language": "python",
   "name": "python3"
  },
  "language_info": {
   "codemirror_mode": {
    "name": "ipython",
    "version": 3
   },
   "file_extension": ".py",
   "mimetype": "text/x-python",
   "name": "python",
   "nbconvert_exporter": "python",
   "pygments_lexer": "ipython3",
   "version": "3.7.3"
  }
 },
 "nbformat": 4,
 "nbformat_minor": 2
}
