{
 "cells": [
  {
   "cell_type": "markdown",
   "metadata": {},
   "source": [
    "# Showcase Notebook for Usage Examples"
   ]
  },
  {
   "cell_type": "code",
   "execution_count": 1,
   "metadata": {},
   "outputs": [],
   "source": [
    "import warnings\n",
    "warnings.filterwarnings('ignore')"
   ]
  },
  {
   "cell_type": "markdown",
   "metadata": {},
   "source": [
    "### Import Project and Cluster Methods"
   ]
  },
  {
   "cell_type": "code",
   "execution_count": 2,
   "metadata": {
    "scrolled": true
   },
   "outputs": [],
   "source": [
    "import os\n",
    "PROJECT_PATH = os.getcwd().replace(\"notebooks\", \"\")\n",
    "import sys\n",
    "sys.path.append(PROJECT_PATH)\n",
    "import src.model_training.clusters as cl\n",
    "import pandas as pd\n",
    "from src.data_representation.Examples import load_Examples_from_file"
   ]
  },
  {
   "cell_type": "markdown",
   "metadata": {},
   "source": [
    "### Load Examples"
   ]
  },
  {
   "cell_type": "code",
   "execution_count": 6,
   "metadata": {},
   "outputs": [],
   "source": [
    "import os\n",
    "PROJECT_PATH = os.getcwd().replace(\"notebooks\", \"\")\n",
    "DATA_GEN_FOLDER_NAME = \"Dec-21-2020\"\n",
    "DATASET_PATH = PROJECT_PATH + \"data/\" + DATA_GEN_FOLDER_NAME + \"/\"\n",
    "OVERVIEW_DATASET_PATH = DATASET_PATH + \"overview_filenames.csv\"\n",
    "overview_df = pd.read_csv(OVERVIEW_DATASET_PATH)"
   ]
  },
  {
   "cell_type": "code",
   "execution_count": 40,
   "metadata": {},
   "outputs": [
    {
     "data": {
      "text/html": [
       "<div>\n",
       "<style scoped>\n",
       "    .dataframe tbody tr th:only-of-type {\n",
       "        vertical-align: middle;\n",
       "    }\n",
       "\n",
       "    .dataframe tbody tr th {\n",
       "        vertical-align: top;\n",
       "    }\n",
       "\n",
       "    .dataframe thead th {\n",
       "        text-align: right;\n",
       "    }\n",
       "</style>\n",
       "<table border=\"1\" class=\"dataframe\">\n",
       "  <thead>\n",
       "    <tr style=\"text-align: right;\">\n",
       "      <th></th>\n",
       "      <th>Unnamed: 0</th>\n",
       "      <th>Unnamed: 0.1</th>\n",
       "      <th>divide_by_country_population</th>\n",
       "      <th>do_smoothing</th>\n",
       "      <th>nr_days_for_avg</th>\n",
       "      <th>do_data_augmentation</th>\n",
       "      <th>percent_varianz</th>\n",
       "      <th>filename</th>\n",
       "      <th>kmedoids_3_filename</th>\n",
       "      <th>kmeans_3_filename</th>\n",
       "      <th>...</th>\n",
       "      <th>kmedoids_5_filename</th>\n",
       "      <th>kmeans_5_filename</th>\n",
       "      <th>dbscan_5_filename</th>\n",
       "      <th>ts_kmeans_5_filename</th>\n",
       "      <th>ts_kshape_5_filename</th>\n",
       "      <th>kmedoids_10_filename</th>\n",
       "      <th>kmeans_10_filename</th>\n",
       "      <th>dbscan_10_filename</th>\n",
       "      <th>ts_kmeans_10_filename</th>\n",
       "      <th>ts_kshape_10_filename</th>\n",
       "    </tr>\n",
       "  </thead>\n",
       "  <tbody>\n",
       "    <tr>\n",
       "      <th>0</th>\n",
       "      <td>0</td>\n",
       "      <td>0</td>\n",
       "      <td>no</td>\n",
       "      <td>no</td>\n",
       "      <td>3</td>\n",
       "      <td>no</td>\n",
       "      <td>0.05</td>\n",
       "      <td>0</td>\n",
       "      <td>KMedoids_no_cluster_3_0</td>\n",
       "      <td>KMeans_no_cluster_3_0</td>\n",
       "      <td>...</td>\n",
       "      <td>KMedoids_no_cluster_5_0</td>\n",
       "      <td>KMeans_no_cluster_5_0</td>\n",
       "      <td>DBSCAN_no_cluster_5_0</td>\n",
       "      <td>TS_KMeans_no_cluster_5_0</td>\n",
       "      <td>TS_KShape_no_cluster_5_0</td>\n",
       "      <td>KMedoids_no_cluster_10_0</td>\n",
       "      <td>KMeans_no_cluster_10_0</td>\n",
       "      <td>DBSCAN_no_cluster_10_0</td>\n",
       "      <td>TS_KMeans_no_cluster_10_0</td>\n",
       "      <td>TS_KShape_no_cluster_10_0</td>\n",
       "    </tr>\n",
       "    <tr>\n",
       "      <th>1</th>\n",
       "      <td>1</td>\n",
       "      <td>1</td>\n",
       "      <td>no</td>\n",
       "      <td>no</td>\n",
       "      <td>3</td>\n",
       "      <td>no</td>\n",
       "      <td>0.01</td>\n",
       "      <td>1</td>\n",
       "      <td>KMedoids_no_cluster_3_1</td>\n",
       "      <td>KMeans_no_cluster_3_1</td>\n",
       "      <td>...</td>\n",
       "      <td>KMedoids_no_cluster_5_1</td>\n",
       "      <td>KMeans_no_cluster_5_1</td>\n",
       "      <td>DBSCAN_no_cluster_5_1</td>\n",
       "      <td>TS_KMeans_no_cluster_5_1</td>\n",
       "      <td>TS_KShape_no_cluster_5_1</td>\n",
       "      <td>KMedoids_no_cluster_10_1</td>\n",
       "      <td>KMeans_no_cluster_10_1</td>\n",
       "      <td>DBSCAN_no_cluster_10_1</td>\n",
       "      <td>TS_KMeans_no_cluster_10_1</td>\n",
       "      <td>TS_KShape_no_cluster_10_1</td>\n",
       "    </tr>\n",
       "    <tr>\n",
       "      <th>2</th>\n",
       "      <td>2</td>\n",
       "      <td>2</td>\n",
       "      <td>no</td>\n",
       "      <td>no</td>\n",
       "      <td>3</td>\n",
       "      <td>yes</td>\n",
       "      <td>0.05</td>\n",
       "      <td>2</td>\n",
       "      <td>KMedoids_no_cluster_3_2</td>\n",
       "      <td>KMeans_no_cluster_3_2</td>\n",
       "      <td>...</td>\n",
       "      <td>KMedoids_no_cluster_5_2</td>\n",
       "      <td>KMeans_no_cluster_5_2</td>\n",
       "      <td>DBSCAN_no_cluster_5_2</td>\n",
       "      <td>TS_KMeans_no_cluster_5_2</td>\n",
       "      <td>TS_KShape_no_cluster_5_2</td>\n",
       "      <td>KMedoids_no_cluster_10_2</td>\n",
       "      <td>KMeans_no_cluster_10_2</td>\n",
       "      <td>DBSCAN_no_cluster_10_2</td>\n",
       "      <td>TS_KMeans_no_cluster_10_2</td>\n",
       "      <td>TS_KShape_no_cluster_10_2</td>\n",
       "    </tr>\n",
       "    <tr>\n",
       "      <th>3</th>\n",
       "      <td>3</td>\n",
       "      <td>3</td>\n",
       "      <td>no</td>\n",
       "      <td>no</td>\n",
       "      <td>3</td>\n",
       "      <td>yes</td>\n",
       "      <td>0.01</td>\n",
       "      <td>3</td>\n",
       "      <td>KMedoids_no_cluster_3_3</td>\n",
       "      <td>KMeans_no_cluster_3_3</td>\n",
       "      <td>...</td>\n",
       "      <td>KMedoids_no_cluster_5_3</td>\n",
       "      <td>KMeans_no_cluster_5_3</td>\n",
       "      <td>DBSCAN_no_cluster_5_3</td>\n",
       "      <td>TS_KMeans_no_cluster_5_3</td>\n",
       "      <td>TS_KShape_no_cluster_5_3</td>\n",
       "      <td>KMedoids_no_cluster_10_3</td>\n",
       "      <td>KMeans_no_cluster_10_3</td>\n",
       "      <td>DBSCAN_no_cluster_10_3</td>\n",
       "      <td>TS_KMeans_no_cluster_10_3</td>\n",
       "      <td>TS_KShape_no_cluster_10_3</td>\n",
       "    </tr>\n",
       "    <tr>\n",
       "      <th>4</th>\n",
       "      <td>4</td>\n",
       "      <td>4</td>\n",
       "      <td>no</td>\n",
       "      <td>no</td>\n",
       "      <td>7</td>\n",
       "      <td>no</td>\n",
       "      <td>0.05</td>\n",
       "      <td>4</td>\n",
       "      <td>KMedoids_no_cluster_3_4</td>\n",
       "      <td>KMeans_no_cluster_3_4</td>\n",
       "      <td>...</td>\n",
       "      <td>KMedoids_no_cluster_5_4</td>\n",
       "      <td>KMeans_no_cluster_5_4</td>\n",
       "      <td>DBSCAN_no_cluster_5_4</td>\n",
       "      <td>TS_KMeans_no_cluster_5_4</td>\n",
       "      <td>TS_KShape_no_cluster_5_4</td>\n",
       "      <td>KMedoids_no_cluster_10_4</td>\n",
       "      <td>KMeans_no_cluster_10_4</td>\n",
       "      <td>DBSCAN_no_cluster_10_4</td>\n",
       "      <td>TS_KMeans_no_cluster_10_4</td>\n",
       "      <td>TS_KShape_no_cluster_10_4</td>\n",
       "    </tr>\n",
       "    <tr>\n",
       "      <th>5</th>\n",
       "      <td>5</td>\n",
       "      <td>5</td>\n",
       "      <td>no</td>\n",
       "      <td>no</td>\n",
       "      <td>7</td>\n",
       "      <td>no</td>\n",
       "      <td>0.01</td>\n",
       "      <td>5</td>\n",
       "      <td>KMedoids_no_cluster_3_5</td>\n",
       "      <td>KMeans_no_cluster_3_5</td>\n",
       "      <td>...</td>\n",
       "      <td>KMedoids_no_cluster_5_5</td>\n",
       "      <td>KMeans_no_cluster_5_5</td>\n",
       "      <td>DBSCAN_no_cluster_5_5</td>\n",
       "      <td>TS_KMeans_no_cluster_5_5</td>\n",
       "      <td>TS_KShape_no_cluster_5_5</td>\n",
       "      <td>KMedoids_no_cluster_10_5</td>\n",
       "      <td>KMeans_no_cluster_10_5</td>\n",
       "      <td>DBSCAN_no_cluster_10_5</td>\n",
       "      <td>TS_KMeans_no_cluster_10_5</td>\n",
       "      <td>TS_KShape_no_cluster_10_5</td>\n",
       "    </tr>\n",
       "    <tr>\n",
       "      <th>6</th>\n",
       "      <td>6</td>\n",
       "      <td>6</td>\n",
       "      <td>no</td>\n",
       "      <td>no</td>\n",
       "      <td>7</td>\n",
       "      <td>yes</td>\n",
       "      <td>0.05</td>\n",
       "      <td>6</td>\n",
       "      <td>KMedoids_no_cluster_3_6</td>\n",
       "      <td>KMeans_no_cluster_3_6</td>\n",
       "      <td>...</td>\n",
       "      <td>KMedoids_no_cluster_5_6</td>\n",
       "      <td>KMeans_no_cluster_5_6</td>\n",
       "      <td>DBSCAN_no_cluster_5_6</td>\n",
       "      <td>TS_KMeans_no_cluster_5_6</td>\n",
       "      <td>TS_KShape_no_cluster_5_6</td>\n",
       "      <td>KMedoids_no_cluster_10_6</td>\n",
       "      <td>KMeans_no_cluster_10_6</td>\n",
       "      <td>DBSCAN_no_cluster_10_6</td>\n",
       "      <td>TS_KMeans_no_cluster_10_6</td>\n",
       "      <td>TS_KShape_no_cluster_10_6</td>\n",
       "    </tr>\n",
       "    <tr>\n",
       "      <th>7</th>\n",
       "      <td>7</td>\n",
       "      <td>7</td>\n",
       "      <td>no</td>\n",
       "      <td>no</td>\n",
       "      <td>7</td>\n",
       "      <td>yes</td>\n",
       "      <td>0.01</td>\n",
       "      <td>7</td>\n",
       "      <td>KMedoids_no_cluster_3_7</td>\n",
       "      <td>KMeans_no_cluster_3_7</td>\n",
       "      <td>...</td>\n",
       "      <td>KMedoids_no_cluster_5_7</td>\n",
       "      <td>KMeans_no_cluster_5_7</td>\n",
       "      <td>DBSCAN_no_cluster_5_7</td>\n",
       "      <td>TS_KMeans_no_cluster_5_7</td>\n",
       "      <td>TS_KShape_no_cluster_5_7</td>\n",
       "      <td>KMedoids_no_cluster_10_7</td>\n",
       "      <td>KMeans_no_cluster_10_7</td>\n",
       "      <td>DBSCAN_no_cluster_10_7</td>\n",
       "      <td>TS_KMeans_no_cluster_10_7</td>\n",
       "      <td>TS_KShape_no_cluster_10_7</td>\n",
       "    </tr>\n",
       "    <tr>\n",
       "      <th>8</th>\n",
       "      <td>8</td>\n",
       "      <td>8</td>\n",
       "      <td>no</td>\n",
       "      <td>no</td>\n",
       "      <td>14</td>\n",
       "      <td>no</td>\n",
       "      <td>0.05</td>\n",
       "      <td>8</td>\n",
       "      <td>KMedoids_no_cluster_3_8</td>\n",
       "      <td>KMeans_no_cluster_3_8</td>\n",
       "      <td>...</td>\n",
       "      <td>KMedoids_no_cluster_5_8</td>\n",
       "      <td>KMeans_no_cluster_5_8</td>\n",
       "      <td>DBSCAN_no_cluster_5_8</td>\n",
       "      <td>TS_KMeans_no_cluster_5_8</td>\n",
       "      <td>TS_KShape_no_cluster_5_8</td>\n",
       "      <td>KMedoids_no_cluster_10_8</td>\n",
       "      <td>KMeans_no_cluster_10_8</td>\n",
       "      <td>DBSCAN_no_cluster_10_8</td>\n",
       "      <td>TS_KMeans_no_cluster_10_8</td>\n",
       "      <td>TS_KShape_no_cluster_10_8</td>\n",
       "    </tr>\n",
       "    <tr>\n",
       "      <th>9</th>\n",
       "      <td>9</td>\n",
       "      <td>9</td>\n",
       "      <td>no</td>\n",
       "      <td>no</td>\n",
       "      <td>14</td>\n",
       "      <td>no</td>\n",
       "      <td>0.01</td>\n",
       "      <td>9</td>\n",
       "      <td>KMedoids_no_cluster_3_9</td>\n",
       "      <td>KMeans_no_cluster_3_9</td>\n",
       "      <td>...</td>\n",
       "      <td>KMedoids_no_cluster_5_9</td>\n",
       "      <td>KMeans_no_cluster_5_9</td>\n",
       "      <td>DBSCAN_no_cluster_5_9</td>\n",
       "      <td>TS_KMeans_no_cluster_5_9</td>\n",
       "      <td>TS_KShape_no_cluster_5_9</td>\n",
       "      <td>KMedoids_no_cluster_10_9</td>\n",
       "      <td>KMeans_no_cluster_10_9</td>\n",
       "      <td>DBSCAN_no_cluster_10_9</td>\n",
       "      <td>TS_KMeans_no_cluster_10_9</td>\n",
       "      <td>TS_KShape_no_cluster_10_9</td>\n",
       "    </tr>\n",
       "    <tr>\n",
       "      <th>10</th>\n",
       "      <td>10</td>\n",
       "      <td>10</td>\n",
       "      <td>no</td>\n",
       "      <td>no</td>\n",
       "      <td>14</td>\n",
       "      <td>yes</td>\n",
       "      <td>0.05</td>\n",
       "      <td>10</td>\n",
       "      <td>KMedoids_no_cluster_3_10</td>\n",
       "      <td>KMeans_no_cluster_3_10</td>\n",
       "      <td>...</td>\n",
       "      <td>KMedoids_no_cluster_5_10</td>\n",
       "      <td>KMeans_no_cluster_5_10</td>\n",
       "      <td>DBSCAN_no_cluster_5_10</td>\n",
       "      <td>TS_KMeans_no_cluster_5_10</td>\n",
       "      <td>TS_KShape_no_cluster_5_10</td>\n",
       "      <td>KMedoids_no_cluster_10_10</td>\n",
       "      <td>KMeans_no_cluster_10_10</td>\n",
       "      <td>DBSCAN_no_cluster_10_10</td>\n",
       "      <td>TS_KMeans_no_cluster_10_10</td>\n",
       "      <td>TS_KShape_no_cluster_10_10</td>\n",
       "    </tr>\n",
       "    <tr>\n",
       "      <th>11</th>\n",
       "      <td>11</td>\n",
       "      <td>11</td>\n",
       "      <td>no</td>\n",
       "      <td>no</td>\n",
       "      <td>14</td>\n",
       "      <td>yes</td>\n",
       "      <td>0.01</td>\n",
       "      <td>11</td>\n",
       "      <td>KMedoids_no_cluster_3_11</td>\n",
       "      <td>KMeans_no_cluster_3_11</td>\n",
       "      <td>...</td>\n",
       "      <td>KMedoids_no_cluster_5_11</td>\n",
       "      <td>KMeans_no_cluster_5_11</td>\n",
       "      <td>DBSCAN_no_cluster_5_11</td>\n",
       "      <td>TS_KMeans_no_cluster_5_11</td>\n",
       "      <td>TS_KShape_no_cluster_5_11</td>\n",
       "      <td>KMedoids_no_cluster_10_11</td>\n",
       "      <td>KMeans_no_cluster_10_11</td>\n",
       "      <td>DBSCAN_no_cluster_10_11</td>\n",
       "      <td>TS_KMeans_no_cluster_10_11</td>\n",
       "      <td>TS_KShape_no_cluster_10_11</td>\n",
       "    </tr>\n",
       "    <tr>\n",
       "      <th>12</th>\n",
       "      <td>12</td>\n",
       "      <td>12</td>\n",
       "      <td>no</td>\n",
       "      <td>yes</td>\n",
       "      <td>3</td>\n",
       "      <td>no</td>\n",
       "      <td>0.05</td>\n",
       "      <td>12</td>\n",
       "      <td>KMedoids_no_cluster_3_12</td>\n",
       "      <td>KMeans_no_cluster_3_12</td>\n",
       "      <td>...</td>\n",
       "      <td>KMedoids_no_cluster_5_12</td>\n",
       "      <td>KMeans_no_cluster_5_12</td>\n",
       "      <td>DBSCAN_no_cluster_5_12</td>\n",
       "      <td>TS_KMeans_no_cluster_5_12</td>\n",
       "      <td>TS_KShape_no_cluster_5_12</td>\n",
       "      <td>KMedoids_no_cluster_10_12</td>\n",
       "      <td>KMeans_no_cluster_10_12</td>\n",
       "      <td>DBSCAN_no_cluster_10_12</td>\n",
       "      <td>TS_KMeans_no_cluster_10_12</td>\n",
       "      <td>TS_KShape_no_cluster_10_12</td>\n",
       "    </tr>\n",
       "    <tr>\n",
       "      <th>13</th>\n",
       "      <td>13</td>\n",
       "      <td>13</td>\n",
       "      <td>no</td>\n",
       "      <td>yes</td>\n",
       "      <td>3</td>\n",
       "      <td>no</td>\n",
       "      <td>0.01</td>\n",
       "      <td>13</td>\n",
       "      <td>KMedoids_no_cluster_3_13</td>\n",
       "      <td>KMeans_no_cluster_3_13</td>\n",
       "      <td>...</td>\n",
       "      <td>KMedoids_no_cluster_5_13</td>\n",
       "      <td>KMeans_no_cluster_5_13</td>\n",
       "      <td>DBSCAN_no_cluster_5_13</td>\n",
       "      <td>TS_KMeans_no_cluster_5_13</td>\n",
       "      <td>TS_KShape_no_cluster_5_13</td>\n",
       "      <td>KMedoids_no_cluster_10_13</td>\n",
       "      <td>KMeans_no_cluster_10_13</td>\n",
       "      <td>DBSCAN_no_cluster_10_13</td>\n",
       "      <td>TS_KMeans_no_cluster_10_13</td>\n",
       "      <td>TS_KShape_no_cluster_10_13</td>\n",
       "    </tr>\n",
       "    <tr>\n",
       "      <th>14</th>\n",
       "      <td>14</td>\n",
       "      <td>14</td>\n",
       "      <td>no</td>\n",
       "      <td>yes</td>\n",
       "      <td>3</td>\n",
       "      <td>yes</td>\n",
       "      <td>0.05</td>\n",
       "      <td>14</td>\n",
       "      <td>KMedoids_no_cluster_3_14</td>\n",
       "      <td>KMeans_no_cluster_3_14</td>\n",
       "      <td>...</td>\n",
       "      <td>KMedoids_no_cluster_5_14</td>\n",
       "      <td>KMeans_no_cluster_5_14</td>\n",
       "      <td>DBSCAN_no_cluster_5_14</td>\n",
       "      <td>TS_KMeans_no_cluster_5_14</td>\n",
       "      <td>TS_KShape_no_cluster_5_14</td>\n",
       "      <td>KMedoids_no_cluster_10_14</td>\n",
       "      <td>KMeans_no_cluster_10_14</td>\n",
       "      <td>DBSCAN_no_cluster_10_14</td>\n",
       "      <td>TS_KMeans_no_cluster_10_14</td>\n",
       "      <td>TS_KShape_no_cluster_10_14</td>\n",
       "    </tr>\n",
       "    <tr>\n",
       "      <th>15</th>\n",
       "      <td>15</td>\n",
       "      <td>15</td>\n",
       "      <td>no</td>\n",
       "      <td>yes</td>\n",
       "      <td>3</td>\n",
       "      <td>yes</td>\n",
       "      <td>0.01</td>\n",
       "      <td>15</td>\n",
       "      <td>KMedoids_no_cluster_3_15</td>\n",
       "      <td>KMeans_no_cluster_3_15</td>\n",
       "      <td>...</td>\n",
       "      <td>KMedoids_no_cluster_5_15</td>\n",
       "      <td>KMeans_no_cluster_5_15</td>\n",
       "      <td>DBSCAN_no_cluster_5_15</td>\n",
       "      <td>TS_KMeans_no_cluster_5_15</td>\n",
       "      <td>TS_KShape_no_cluster_5_15</td>\n",
       "      <td>KMedoids_no_cluster_10_15</td>\n",
       "      <td>KMeans_no_cluster_10_15</td>\n",
       "      <td>DBSCAN_no_cluster_10_15</td>\n",
       "      <td>TS_KMeans_no_cluster_10_15</td>\n",
       "      <td>TS_KShape_no_cluster_10_15</td>\n",
       "    </tr>\n",
       "    <tr>\n",
       "      <th>16</th>\n",
       "      <td>16</td>\n",
       "      <td>16</td>\n",
       "      <td>no</td>\n",
       "      <td>yes</td>\n",
       "      <td>7</td>\n",
       "      <td>no</td>\n",
       "      <td>0.05</td>\n",
       "      <td>16</td>\n",
       "      <td>KMedoids_no_cluster_3_16</td>\n",
       "      <td>KMeans_no_cluster_3_16</td>\n",
       "      <td>...</td>\n",
       "      <td>KMedoids_no_cluster_5_16</td>\n",
       "      <td>KMeans_no_cluster_5_16</td>\n",
       "      <td>DBSCAN_no_cluster_5_16</td>\n",
       "      <td>TS_KMeans_no_cluster_5_16</td>\n",
       "      <td>TS_KShape_no_cluster_5_16</td>\n",
       "      <td>KMedoids_no_cluster_10_16</td>\n",
       "      <td>KMeans_no_cluster_10_16</td>\n",
       "      <td>DBSCAN_no_cluster_10_16</td>\n",
       "      <td>TS_KMeans_no_cluster_10_16</td>\n",
       "      <td>TS_KShape_no_cluster_10_16</td>\n",
       "    </tr>\n",
       "    <tr>\n",
       "      <th>17</th>\n",
       "      <td>17</td>\n",
       "      <td>17</td>\n",
       "      <td>no</td>\n",
       "      <td>yes</td>\n",
       "      <td>7</td>\n",
       "      <td>no</td>\n",
       "      <td>0.01</td>\n",
       "      <td>17</td>\n",
       "      <td>KMedoids_no_cluster_3_17</td>\n",
       "      <td>KMeans_no_cluster_3_17</td>\n",
       "      <td>...</td>\n",
       "      <td>KMedoids_no_cluster_5_17</td>\n",
       "      <td>KMeans_no_cluster_5_17</td>\n",
       "      <td>DBSCAN_no_cluster_5_17</td>\n",
       "      <td>TS_KMeans_no_cluster_5_17</td>\n",
       "      <td>TS_KShape_no_cluster_5_17</td>\n",
       "      <td>KMedoids_no_cluster_10_17</td>\n",
       "      <td>KMeans_no_cluster_10_17</td>\n",
       "      <td>DBSCAN_no_cluster_10_17</td>\n",
       "      <td>TS_KMeans_no_cluster_10_17</td>\n",
       "      <td>TS_KShape_no_cluster_10_17</td>\n",
       "    </tr>\n",
       "    <tr>\n",
       "      <th>18</th>\n",
       "      <td>18</td>\n",
       "      <td>18</td>\n",
       "      <td>no</td>\n",
       "      <td>yes</td>\n",
       "      <td>7</td>\n",
       "      <td>yes</td>\n",
       "      <td>0.05</td>\n",
       "      <td>18</td>\n",
       "      <td>KMedoids_no_cluster_3_18</td>\n",
       "      <td>KMeans_no_cluster_3_18</td>\n",
       "      <td>...</td>\n",
       "      <td>KMedoids_no_cluster_5_18</td>\n",
       "      <td>KMeans_no_cluster_5_18</td>\n",
       "      <td>DBSCAN_no_cluster_5_18</td>\n",
       "      <td>TS_KMeans_no_cluster_5_18</td>\n",
       "      <td>TS_KShape_no_cluster_5_18</td>\n",
       "      <td>KMedoids_no_cluster_10_18</td>\n",
       "      <td>KMeans_no_cluster_10_18</td>\n",
       "      <td>DBSCAN_no_cluster_10_18</td>\n",
       "      <td>TS_KMeans_no_cluster_10_18</td>\n",
       "      <td>TS_KShape_no_cluster_10_18</td>\n",
       "    </tr>\n",
       "    <tr>\n",
       "      <th>19</th>\n",
       "      <td>19</td>\n",
       "      <td>19</td>\n",
       "      <td>no</td>\n",
       "      <td>yes</td>\n",
       "      <td>7</td>\n",
       "      <td>yes</td>\n",
       "      <td>0.01</td>\n",
       "      <td>19</td>\n",
       "      <td>KMedoids_no_cluster_3_19</td>\n",
       "      <td>KMeans_no_cluster_3_19</td>\n",
       "      <td>...</td>\n",
       "      <td>KMedoids_no_cluster_5_19</td>\n",
       "      <td>KMeans_no_cluster_5_19</td>\n",
       "      <td>DBSCAN_no_cluster_5_19</td>\n",
       "      <td>TS_KMeans_no_cluster_5_19</td>\n",
       "      <td>TS_KShape_no_cluster_5_19</td>\n",
       "      <td>KMedoids_no_cluster_10_19</td>\n",
       "      <td>KMeans_no_cluster_10_19</td>\n",
       "      <td>DBSCAN_no_cluster_10_19</td>\n",
       "      <td>TS_KMeans_no_cluster_10_19</td>\n",
       "      <td>TS_KShape_no_cluster_10_19</td>\n",
       "    </tr>\n",
       "    <tr>\n",
       "      <th>20</th>\n",
       "      <td>20</td>\n",
       "      <td>20</td>\n",
       "      <td>no</td>\n",
       "      <td>yes</td>\n",
       "      <td>14</td>\n",
       "      <td>no</td>\n",
       "      <td>0.05</td>\n",
       "      <td>20</td>\n",
       "      <td>KMedoids_no_cluster_3_20</td>\n",
       "      <td>KMeans_no_cluster_3_20</td>\n",
       "      <td>...</td>\n",
       "      <td>KMedoids_no_cluster_5_20</td>\n",
       "      <td>KMeans_no_cluster_5_20</td>\n",
       "      <td>DBSCAN_no_cluster_5_20</td>\n",
       "      <td>TS_KMeans_no_cluster_5_20</td>\n",
       "      <td>TS_KShape_no_cluster_5_20</td>\n",
       "      <td>KMedoids_no_cluster_10_20</td>\n",
       "      <td>KMeans_no_cluster_10_20</td>\n",
       "      <td>DBSCAN_no_cluster_10_20</td>\n",
       "      <td>TS_KMeans_no_cluster_10_20</td>\n",
       "      <td>TS_KShape_no_cluster_10_20</td>\n",
       "    </tr>\n",
       "    <tr>\n",
       "      <th>21</th>\n",
       "      <td>21</td>\n",
       "      <td>21</td>\n",
       "      <td>no</td>\n",
       "      <td>yes</td>\n",
       "      <td>14</td>\n",
       "      <td>no</td>\n",
       "      <td>0.01</td>\n",
       "      <td>21</td>\n",
       "      <td>KMedoids_no_cluster_3_21</td>\n",
       "      <td>KMeans_no_cluster_3_21</td>\n",
       "      <td>...</td>\n",
       "      <td>KMedoids_no_cluster_5_21</td>\n",
       "      <td>KMeans_no_cluster_5_21</td>\n",
       "      <td>DBSCAN_no_cluster_5_21</td>\n",
       "      <td>TS_KMeans_no_cluster_5_21</td>\n",
       "      <td>TS_KShape_no_cluster_5_21</td>\n",
       "      <td>KMedoids_no_cluster_10_21</td>\n",
       "      <td>KMeans_no_cluster_10_21</td>\n",
       "      <td>DBSCAN_no_cluster_10_21</td>\n",
       "      <td>TS_KMeans_no_cluster_10_21</td>\n",
       "      <td>TS_KShape_no_cluster_10_21</td>\n",
       "    </tr>\n",
       "    <tr>\n",
       "      <th>22</th>\n",
       "      <td>22</td>\n",
       "      <td>22</td>\n",
       "      <td>no</td>\n",
       "      <td>yes</td>\n",
       "      <td>14</td>\n",
       "      <td>yes</td>\n",
       "      <td>0.05</td>\n",
       "      <td>22</td>\n",
       "      <td>KMedoids_no_cluster_3_22</td>\n",
       "      <td>KMeans_no_cluster_3_22</td>\n",
       "      <td>...</td>\n",
       "      <td>KMedoids_no_cluster_5_22</td>\n",
       "      <td>KMeans_no_cluster_5_22</td>\n",
       "      <td>DBSCAN_no_cluster_5_22</td>\n",
       "      <td>TS_KMeans_no_cluster_5_22</td>\n",
       "      <td>TS_KShape_no_cluster_5_22</td>\n",
       "      <td>KMedoids_no_cluster_10_22</td>\n",
       "      <td>KMeans_no_cluster_10_22</td>\n",
       "      <td>DBSCAN_no_cluster_10_22</td>\n",
       "      <td>TS_KMeans_no_cluster_10_22</td>\n",
       "      <td>TS_KShape_no_cluster_10_22</td>\n",
       "    </tr>\n",
       "    <tr>\n",
       "      <th>23</th>\n",
       "      <td>23</td>\n",
       "      <td>23</td>\n",
       "      <td>no</td>\n",
       "      <td>yes</td>\n",
       "      <td>14</td>\n",
       "      <td>yes</td>\n",
       "      <td>0.01</td>\n",
       "      <td>23</td>\n",
       "      <td>KMedoids_no_cluster_3_23</td>\n",
       "      <td>KMeans_no_cluster_3_23</td>\n",
       "      <td>...</td>\n",
       "      <td>KMedoids_no_cluster_5_23</td>\n",
       "      <td>KMeans_no_cluster_5_23</td>\n",
       "      <td>DBSCAN_no_cluster_5_23</td>\n",
       "      <td>TS_KMeans_no_cluster_5_23</td>\n",
       "      <td>TS_KShape_no_cluster_5_23</td>\n",
       "      <td>KMedoids_no_cluster_10_23</td>\n",
       "      <td>KMeans_no_cluster_10_23</td>\n",
       "      <td>DBSCAN_no_cluster_10_23</td>\n",
       "      <td>TS_KMeans_no_cluster_10_23</td>\n",
       "      <td>TS_KShape_no_cluster_10_23</td>\n",
       "    </tr>\n",
       "    <tr>\n",
       "      <th>24</th>\n",
       "      <td>24</td>\n",
       "      <td>24</td>\n",
       "      <td>yes</td>\n",
       "      <td>no</td>\n",
       "      <td>3</td>\n",
       "      <td>no</td>\n",
       "      <td>0.05</td>\n",
       "      <td>24</td>\n",
       "      <td>KMedoids_no_cluster_3_24</td>\n",
       "      <td>KMeans_no_cluster_3_24</td>\n",
       "      <td>...</td>\n",
       "      <td>KMedoids_no_cluster_5_24</td>\n",
       "      <td>KMeans_no_cluster_5_24</td>\n",
       "      <td>DBSCAN_no_cluster_5_24</td>\n",
       "      <td>TS_KMeans_no_cluster_5_24</td>\n",
       "      <td>TS_KShape_no_cluster_5_24</td>\n",
       "      <td>KMedoids_no_cluster_10_24</td>\n",
       "      <td>KMeans_no_cluster_10_24</td>\n",
       "      <td>DBSCAN_no_cluster_10_24</td>\n",
       "      <td>TS_KMeans_no_cluster_10_24</td>\n",
       "      <td>TS_KShape_no_cluster_10_24</td>\n",
       "    </tr>\n",
       "    <tr>\n",
       "      <th>25</th>\n",
       "      <td>25</td>\n",
       "      <td>25</td>\n",
       "      <td>yes</td>\n",
       "      <td>no</td>\n",
       "      <td>3</td>\n",
       "      <td>no</td>\n",
       "      <td>0.01</td>\n",
       "      <td>25</td>\n",
       "      <td>KMedoids_no_cluster_3_25</td>\n",
       "      <td>KMeans_no_cluster_3_25</td>\n",
       "      <td>...</td>\n",
       "      <td>KMedoids_no_cluster_5_25</td>\n",
       "      <td>KMeans_no_cluster_5_25</td>\n",
       "      <td>DBSCAN_no_cluster_5_25</td>\n",
       "      <td>TS_KMeans_no_cluster_5_25</td>\n",
       "      <td>TS_KShape_no_cluster_5_25</td>\n",
       "      <td>KMedoids_no_cluster_10_25</td>\n",
       "      <td>KMeans_no_cluster_10_25</td>\n",
       "      <td>DBSCAN_no_cluster_10_25</td>\n",
       "      <td>TS_KMeans_no_cluster_10_25</td>\n",
       "      <td>TS_KShape_no_cluster_10_25</td>\n",
       "    </tr>\n",
       "    <tr>\n",
       "      <th>26</th>\n",
       "      <td>26</td>\n",
       "      <td>26</td>\n",
       "      <td>yes</td>\n",
       "      <td>no</td>\n",
       "      <td>3</td>\n",
       "      <td>yes</td>\n",
       "      <td>0.05</td>\n",
       "      <td>26</td>\n",
       "      <td>KMedoids_no_cluster_3_26</td>\n",
       "      <td>KMeans_no_cluster_3_26</td>\n",
       "      <td>...</td>\n",
       "      <td>KMedoids_no_cluster_5_26</td>\n",
       "      <td>KMeans_no_cluster_5_26</td>\n",
       "      <td>DBSCAN_no_cluster_5_26</td>\n",
       "      <td>TS_KMeans_no_cluster_5_26</td>\n",
       "      <td>TS_KShape_no_cluster_5_26</td>\n",
       "      <td>KMedoids_no_cluster_10_26</td>\n",
       "      <td>KMeans_no_cluster_10_26</td>\n",
       "      <td>DBSCAN_no_cluster_10_26</td>\n",
       "      <td>TS_KMeans_no_cluster_10_26</td>\n",
       "      <td>TS_KShape_no_cluster_10_26</td>\n",
       "    </tr>\n",
       "    <tr>\n",
       "      <th>27</th>\n",
       "      <td>27</td>\n",
       "      <td>27</td>\n",
       "      <td>yes</td>\n",
       "      <td>no</td>\n",
       "      <td>3</td>\n",
       "      <td>yes</td>\n",
       "      <td>0.01</td>\n",
       "      <td>27</td>\n",
       "      <td>KMedoids_no_cluster_3_27</td>\n",
       "      <td>KMeans_no_cluster_3_27</td>\n",
       "      <td>...</td>\n",
       "      <td>KMedoids_no_cluster_5_27</td>\n",
       "      <td>KMeans_no_cluster_5_27</td>\n",
       "      <td>DBSCAN_no_cluster_5_27</td>\n",
       "      <td>TS_KMeans_no_cluster_5_27</td>\n",
       "      <td>TS_KShape_no_cluster_5_27</td>\n",
       "      <td>KMedoids_no_cluster_10_27</td>\n",
       "      <td>KMeans_no_cluster_10_27</td>\n",
       "      <td>DBSCAN_no_cluster_10_27</td>\n",
       "      <td>TS_KMeans_no_cluster_10_27</td>\n",
       "      <td>TS_KShape_no_cluster_10_27</td>\n",
       "    </tr>\n",
       "    <tr>\n",
       "      <th>28</th>\n",
       "      <td>28</td>\n",
       "      <td>28</td>\n",
       "      <td>yes</td>\n",
       "      <td>no</td>\n",
       "      <td>7</td>\n",
       "      <td>no</td>\n",
       "      <td>0.05</td>\n",
       "      <td>28</td>\n",
       "      <td>KMedoids_no_cluster_3_28</td>\n",
       "      <td>KMeans_no_cluster_3_28</td>\n",
       "      <td>...</td>\n",
       "      <td>KMedoids_no_cluster_5_28</td>\n",
       "      <td>KMeans_no_cluster_5_28</td>\n",
       "      <td>DBSCAN_no_cluster_5_28</td>\n",
       "      <td>TS_KMeans_no_cluster_5_28</td>\n",
       "      <td>TS_KShape_no_cluster_5_28</td>\n",
       "      <td>KMedoids_no_cluster_10_28</td>\n",
       "      <td>KMeans_no_cluster_10_28</td>\n",
       "      <td>DBSCAN_no_cluster_10_28</td>\n",
       "      <td>TS_KMeans_no_cluster_10_28</td>\n",
       "      <td>TS_KShape_no_cluster_10_28</td>\n",
       "    </tr>\n",
       "    <tr>\n",
       "      <th>29</th>\n",
       "      <td>29</td>\n",
       "      <td>29</td>\n",
       "      <td>yes</td>\n",
       "      <td>no</td>\n",
       "      <td>7</td>\n",
       "      <td>no</td>\n",
       "      <td>0.01</td>\n",
       "      <td>29</td>\n",
       "      <td>KMedoids_no_cluster_3_29</td>\n",
       "      <td>KMeans_no_cluster_3_29</td>\n",
       "      <td>...</td>\n",
       "      <td>KMedoids_no_cluster_5_29</td>\n",
       "      <td>KMeans_no_cluster_5_29</td>\n",
       "      <td>DBSCAN_no_cluster_5_29</td>\n",
       "      <td>TS_KMeans_no_cluster_5_29</td>\n",
       "      <td>TS_KShape_no_cluster_5_29</td>\n",
       "      <td>KMedoids_no_cluster_10_29</td>\n",
       "      <td>KMeans_no_cluster_10_29</td>\n",
       "      <td>DBSCAN_no_cluster_10_29</td>\n",
       "      <td>TS_KMeans_no_cluster_10_29</td>\n",
       "      <td>TS_KShape_no_cluster_10_29</td>\n",
       "    </tr>\n",
       "    <tr>\n",
       "      <th>30</th>\n",
       "      <td>30</td>\n",
       "      <td>30</td>\n",
       "      <td>yes</td>\n",
       "      <td>no</td>\n",
       "      <td>7</td>\n",
       "      <td>yes</td>\n",
       "      <td>0.05</td>\n",
       "      <td>30</td>\n",
       "      <td>KMedoids_no_cluster_3_30</td>\n",
       "      <td>KMeans_no_cluster_3_30</td>\n",
       "      <td>...</td>\n",
       "      <td>KMedoids_no_cluster_5_30</td>\n",
       "      <td>KMeans_no_cluster_5_30</td>\n",
       "      <td>DBSCAN_no_cluster_5_30</td>\n",
       "      <td>TS_KMeans_no_cluster_5_30</td>\n",
       "      <td>TS_KShape_no_cluster_5_30</td>\n",
       "      <td>KMedoids_no_cluster_10_30</td>\n",
       "      <td>KMeans_no_cluster_10_30</td>\n",
       "      <td>DBSCAN_no_cluster_10_30</td>\n",
       "      <td>TS_KMeans_no_cluster_10_30</td>\n",
       "      <td>TS_KShape_no_cluster_10_30</td>\n",
       "    </tr>\n",
       "    <tr>\n",
       "      <th>31</th>\n",
       "      <td>31</td>\n",
       "      <td>31</td>\n",
       "      <td>yes</td>\n",
       "      <td>no</td>\n",
       "      <td>7</td>\n",
       "      <td>yes</td>\n",
       "      <td>0.01</td>\n",
       "      <td>31</td>\n",
       "      <td>KMedoids_no_cluster_3_31</td>\n",
       "      <td>KMeans_no_cluster_3_31</td>\n",
       "      <td>...</td>\n",
       "      <td>KMedoids_no_cluster_5_31</td>\n",
       "      <td>KMeans_no_cluster_5_31</td>\n",
       "      <td>DBSCAN_no_cluster_5_31</td>\n",
       "      <td>TS_KMeans_no_cluster_5_31</td>\n",
       "      <td>TS_KShape_no_cluster_5_31</td>\n",
       "      <td>KMedoids_no_cluster_10_31</td>\n",
       "      <td>KMeans_no_cluster_10_31</td>\n",
       "      <td>DBSCAN_no_cluster_10_31</td>\n",
       "      <td>TS_KMeans_no_cluster_10_31</td>\n",
       "      <td>TS_KShape_no_cluster_10_31</td>\n",
       "    </tr>\n",
       "    <tr>\n",
       "      <th>32</th>\n",
       "      <td>32</td>\n",
       "      <td>32</td>\n",
       "      <td>yes</td>\n",
       "      <td>no</td>\n",
       "      <td>14</td>\n",
       "      <td>no</td>\n",
       "      <td>0.05</td>\n",
       "      <td>32</td>\n",
       "      <td>KMedoids_no_cluster_3_32</td>\n",
       "      <td>KMeans_no_cluster_3_32</td>\n",
       "      <td>...</td>\n",
       "      <td>KMedoids_no_cluster_5_32</td>\n",
       "      <td>KMeans_no_cluster_5_32</td>\n",
       "      <td>DBSCAN_no_cluster_5_32</td>\n",
       "      <td>TS_KMeans_no_cluster_5_32</td>\n",
       "      <td>TS_KShape_no_cluster_5_32</td>\n",
       "      <td>KMedoids_no_cluster_10_32</td>\n",
       "      <td>KMeans_no_cluster_10_32</td>\n",
       "      <td>DBSCAN_no_cluster_10_32</td>\n",
       "      <td>TS_KMeans_no_cluster_10_32</td>\n",
       "      <td>TS_KShape_no_cluster_10_32</td>\n",
       "    </tr>\n",
       "    <tr>\n",
       "      <th>33</th>\n",
       "      <td>33</td>\n",
       "      <td>33</td>\n",
       "      <td>yes</td>\n",
       "      <td>no</td>\n",
       "      <td>14</td>\n",
       "      <td>no</td>\n",
       "      <td>0.01</td>\n",
       "      <td>33</td>\n",
       "      <td>KMedoids_no_cluster_3_33</td>\n",
       "      <td>KMeans_no_cluster_3_33</td>\n",
       "      <td>...</td>\n",
       "      <td>KMedoids_no_cluster_5_33</td>\n",
       "      <td>KMeans_no_cluster_5_33</td>\n",
       "      <td>DBSCAN_no_cluster_5_33</td>\n",
       "      <td>TS_KMeans_no_cluster_5_33</td>\n",
       "      <td>TS_KShape_no_cluster_5_33</td>\n",
       "      <td>KMedoids_no_cluster_10_33</td>\n",
       "      <td>KMeans_no_cluster_10_33</td>\n",
       "      <td>DBSCAN_no_cluster_10_33</td>\n",
       "      <td>TS_KMeans_no_cluster_10_33</td>\n",
       "      <td>TS_KShape_no_cluster_10_33</td>\n",
       "    </tr>\n",
       "    <tr>\n",
       "      <th>34</th>\n",
       "      <td>34</td>\n",
       "      <td>34</td>\n",
       "      <td>yes</td>\n",
       "      <td>no</td>\n",
       "      <td>14</td>\n",
       "      <td>yes</td>\n",
       "      <td>0.05</td>\n",
       "      <td>34</td>\n",
       "      <td>KMedoids_no_cluster_3_34</td>\n",
       "      <td>KMeans_no_cluster_3_34</td>\n",
       "      <td>...</td>\n",
       "      <td>KMedoids_no_cluster_5_34</td>\n",
       "      <td>KMeans_no_cluster_5_34</td>\n",
       "      <td>DBSCAN_no_cluster_5_34</td>\n",
       "      <td>TS_KMeans_no_cluster_5_34</td>\n",
       "      <td>TS_KShape_no_cluster_5_34</td>\n",
       "      <td>KMedoids_no_cluster_10_34</td>\n",
       "      <td>KMeans_no_cluster_10_34</td>\n",
       "      <td>DBSCAN_no_cluster_10_34</td>\n",
       "      <td>TS_KMeans_no_cluster_10_34</td>\n",
       "      <td>TS_KShape_no_cluster_10_34</td>\n",
       "    </tr>\n",
       "    <tr>\n",
       "      <th>35</th>\n",
       "      <td>35</td>\n",
       "      <td>35</td>\n",
       "      <td>yes</td>\n",
       "      <td>no</td>\n",
       "      <td>14</td>\n",
       "      <td>yes</td>\n",
       "      <td>0.01</td>\n",
       "      <td>35</td>\n",
       "      <td>KMedoids_no_cluster_3_35</td>\n",
       "      <td>KMeans_no_cluster_3_35</td>\n",
       "      <td>...</td>\n",
       "      <td>KMedoids_no_cluster_5_35</td>\n",
       "      <td>KMeans_no_cluster_5_35</td>\n",
       "      <td>DBSCAN_no_cluster_5_35</td>\n",
       "      <td>TS_KMeans_no_cluster_5_35</td>\n",
       "      <td>TS_KShape_no_cluster_5_35</td>\n",
       "      <td>KMedoids_no_cluster_10_35</td>\n",
       "      <td>KMeans_no_cluster_10_35</td>\n",
       "      <td>DBSCAN_no_cluster_10_35</td>\n",
       "      <td>TS_KMeans_no_cluster_10_35</td>\n",
       "      <td>TS_KShape_no_cluster_10_35</td>\n",
       "    </tr>\n",
       "    <tr>\n",
       "      <th>36</th>\n",
       "      <td>36</td>\n",
       "      <td>36</td>\n",
       "      <td>yes</td>\n",
       "      <td>yes</td>\n",
       "      <td>3</td>\n",
       "      <td>no</td>\n",
       "      <td>0.05</td>\n",
       "      <td>36</td>\n",
       "      <td>KMedoids_no_cluster_3_36</td>\n",
       "      <td>KMeans_no_cluster_3_36</td>\n",
       "      <td>...</td>\n",
       "      <td>KMedoids_no_cluster_5_36</td>\n",
       "      <td>KMeans_no_cluster_5_36</td>\n",
       "      <td>DBSCAN_no_cluster_5_36</td>\n",
       "      <td>TS_KMeans_no_cluster_5_36</td>\n",
       "      <td>TS_KShape_no_cluster_5_36</td>\n",
       "      <td>KMedoids_no_cluster_10_36</td>\n",
       "      <td>KMeans_no_cluster_10_36</td>\n",
       "      <td>DBSCAN_no_cluster_10_36</td>\n",
       "      <td>TS_KMeans_no_cluster_10_36</td>\n",
       "      <td>TS_KShape_no_cluster_10_36</td>\n",
       "    </tr>\n",
       "    <tr>\n",
       "      <th>37</th>\n",
       "      <td>37</td>\n",
       "      <td>37</td>\n",
       "      <td>yes</td>\n",
       "      <td>yes</td>\n",
       "      <td>3</td>\n",
       "      <td>no</td>\n",
       "      <td>0.01</td>\n",
       "      <td>37</td>\n",
       "      <td>KMedoids_no_cluster_3_37</td>\n",
       "      <td>KMeans_no_cluster_3_37</td>\n",
       "      <td>...</td>\n",
       "      <td>KMedoids_no_cluster_5_37</td>\n",
       "      <td>KMeans_no_cluster_5_37</td>\n",
       "      <td>DBSCAN_no_cluster_5_37</td>\n",
       "      <td>TS_KMeans_no_cluster_5_37</td>\n",
       "      <td>TS_KShape_no_cluster_5_37</td>\n",
       "      <td>KMedoids_no_cluster_10_37</td>\n",
       "      <td>KMeans_no_cluster_10_37</td>\n",
       "      <td>DBSCAN_no_cluster_10_37</td>\n",
       "      <td>TS_KMeans_no_cluster_10_37</td>\n",
       "      <td>TS_KShape_no_cluster_10_37</td>\n",
       "    </tr>\n",
       "    <tr>\n",
       "      <th>38</th>\n",
       "      <td>38</td>\n",
       "      <td>38</td>\n",
       "      <td>yes</td>\n",
       "      <td>yes</td>\n",
       "      <td>3</td>\n",
       "      <td>yes</td>\n",
       "      <td>0.05</td>\n",
       "      <td>38</td>\n",
       "      <td>KMedoids_no_cluster_3_38</td>\n",
       "      <td>KMeans_no_cluster_3_38</td>\n",
       "      <td>...</td>\n",
       "      <td>KMedoids_no_cluster_5_38</td>\n",
       "      <td>KMeans_no_cluster_5_38</td>\n",
       "      <td>DBSCAN_no_cluster_5_38</td>\n",
       "      <td>TS_KMeans_no_cluster_5_38</td>\n",
       "      <td>TS_KShape_no_cluster_5_38</td>\n",
       "      <td>KMedoids_no_cluster_10_38</td>\n",
       "      <td>KMeans_no_cluster_10_38</td>\n",
       "      <td>DBSCAN_no_cluster_10_38</td>\n",
       "      <td>TS_KMeans_no_cluster_10_38</td>\n",
       "      <td>TS_KShape_no_cluster_10_38</td>\n",
       "    </tr>\n",
       "    <tr>\n",
       "      <th>39</th>\n",
       "      <td>39</td>\n",
       "      <td>39</td>\n",
       "      <td>yes</td>\n",
       "      <td>yes</td>\n",
       "      <td>3</td>\n",
       "      <td>yes</td>\n",
       "      <td>0.01</td>\n",
       "      <td>39</td>\n",
       "      <td>KMedoids_no_cluster_3_39</td>\n",
       "      <td>KMeans_no_cluster_3_39</td>\n",
       "      <td>...</td>\n",
       "      <td>KMedoids_no_cluster_5_39</td>\n",
       "      <td>KMeans_no_cluster_5_39</td>\n",
       "      <td>DBSCAN_no_cluster_5_39</td>\n",
       "      <td>TS_KMeans_no_cluster_5_39</td>\n",
       "      <td>TS_KShape_no_cluster_5_39</td>\n",
       "      <td>KMedoids_no_cluster_10_39</td>\n",
       "      <td>KMeans_no_cluster_10_39</td>\n",
       "      <td>DBSCAN_no_cluster_10_39</td>\n",
       "      <td>TS_KMeans_no_cluster_10_39</td>\n",
       "      <td>TS_KShape_no_cluster_10_39</td>\n",
       "    </tr>\n",
       "    <tr>\n",
       "      <th>40</th>\n",
       "      <td>40</td>\n",
       "      <td>40</td>\n",
       "      <td>yes</td>\n",
       "      <td>yes</td>\n",
       "      <td>7</td>\n",
       "      <td>no</td>\n",
       "      <td>0.05</td>\n",
       "      <td>40</td>\n",
       "      <td>KMedoids_no_cluster_3_40</td>\n",
       "      <td>KMeans_no_cluster_3_40</td>\n",
       "      <td>...</td>\n",
       "      <td>KMedoids_no_cluster_5_40</td>\n",
       "      <td>KMeans_no_cluster_5_40</td>\n",
       "      <td>DBSCAN_no_cluster_5_40</td>\n",
       "      <td>TS_KMeans_no_cluster_5_40</td>\n",
       "      <td>TS_KShape_no_cluster_5_40</td>\n",
       "      <td>KMedoids_no_cluster_10_40</td>\n",
       "      <td>KMeans_no_cluster_10_40</td>\n",
       "      <td>DBSCAN_no_cluster_10_40</td>\n",
       "      <td>TS_KMeans_no_cluster_10_40</td>\n",
       "      <td>TS_KShape_no_cluster_10_40</td>\n",
       "    </tr>\n",
       "    <tr>\n",
       "      <th>41</th>\n",
       "      <td>41</td>\n",
       "      <td>41</td>\n",
       "      <td>yes</td>\n",
       "      <td>yes</td>\n",
       "      <td>7</td>\n",
       "      <td>no</td>\n",
       "      <td>0.01</td>\n",
       "      <td>41</td>\n",
       "      <td>KMedoids_no_cluster_3_41</td>\n",
       "      <td>KMeans_no_cluster_3_41</td>\n",
       "      <td>...</td>\n",
       "      <td>KMedoids_no_cluster_5_41</td>\n",
       "      <td>KMeans_no_cluster_5_41</td>\n",
       "      <td>DBSCAN_no_cluster_5_41</td>\n",
       "      <td>TS_KMeans_no_cluster_5_41</td>\n",
       "      <td>TS_KShape_no_cluster_5_41</td>\n",
       "      <td>KMedoids_no_cluster_10_41</td>\n",
       "      <td>KMeans_no_cluster_10_41</td>\n",
       "      <td>DBSCAN_no_cluster_10_41</td>\n",
       "      <td>TS_KMeans_no_cluster_10_41</td>\n",
       "      <td>TS_KShape_no_cluster_10_41</td>\n",
       "    </tr>\n",
       "    <tr>\n",
       "      <th>42</th>\n",
       "      <td>42</td>\n",
       "      <td>42</td>\n",
       "      <td>yes</td>\n",
       "      <td>yes</td>\n",
       "      <td>7</td>\n",
       "      <td>yes</td>\n",
       "      <td>0.05</td>\n",
       "      <td>42</td>\n",
       "      <td>KMedoids_no_cluster_3_42</td>\n",
       "      <td>KMeans_no_cluster_3_42</td>\n",
       "      <td>...</td>\n",
       "      <td>KMedoids_no_cluster_5_42</td>\n",
       "      <td>KMeans_no_cluster_5_42</td>\n",
       "      <td>DBSCAN_no_cluster_5_42</td>\n",
       "      <td>TS_KMeans_no_cluster_5_42</td>\n",
       "      <td>TS_KShape_no_cluster_5_42</td>\n",
       "      <td>KMedoids_no_cluster_10_42</td>\n",
       "      <td>KMeans_no_cluster_10_42</td>\n",
       "      <td>DBSCAN_no_cluster_10_42</td>\n",
       "      <td>TS_KMeans_no_cluster_10_42</td>\n",
       "      <td>TS_KShape_no_cluster_10_42</td>\n",
       "    </tr>\n",
       "    <tr>\n",
       "      <th>43</th>\n",
       "      <td>43</td>\n",
       "      <td>43</td>\n",
       "      <td>yes</td>\n",
       "      <td>yes</td>\n",
       "      <td>7</td>\n",
       "      <td>yes</td>\n",
       "      <td>0.01</td>\n",
       "      <td>43</td>\n",
       "      <td>KMedoids_no_cluster_3_43</td>\n",
       "      <td>KMeans_no_cluster_3_43</td>\n",
       "      <td>...</td>\n",
       "      <td>KMedoids_no_cluster_5_43</td>\n",
       "      <td>KMeans_no_cluster_5_43</td>\n",
       "      <td>DBSCAN_no_cluster_5_43</td>\n",
       "      <td>TS_KMeans_no_cluster_5_43</td>\n",
       "      <td>TS_KShape_no_cluster_5_43</td>\n",
       "      <td>KMedoids_no_cluster_10_43</td>\n",
       "      <td>KMeans_no_cluster_10_43</td>\n",
       "      <td>DBSCAN_no_cluster_10_43</td>\n",
       "      <td>TS_KMeans_no_cluster_10_43</td>\n",
       "      <td>TS_KShape_no_cluster_10_43</td>\n",
       "    </tr>\n",
       "    <tr>\n",
       "      <th>44</th>\n",
       "      <td>44</td>\n",
       "      <td>44</td>\n",
       "      <td>yes</td>\n",
       "      <td>yes</td>\n",
       "      <td>14</td>\n",
       "      <td>no</td>\n",
       "      <td>0.05</td>\n",
       "      <td>44</td>\n",
       "      <td>KMedoids_no_cluster_3_44</td>\n",
       "      <td>KMeans_no_cluster_3_44</td>\n",
       "      <td>...</td>\n",
       "      <td>KMedoids_no_cluster_5_44</td>\n",
       "      <td>KMeans_no_cluster_5_44</td>\n",
       "      <td>DBSCAN_no_cluster_5_44</td>\n",
       "      <td>TS_KMeans_no_cluster_5_44</td>\n",
       "      <td>TS_KShape_no_cluster_5_44</td>\n",
       "      <td>KMedoids_no_cluster_10_44</td>\n",
       "      <td>KMeans_no_cluster_10_44</td>\n",
       "      <td>DBSCAN_no_cluster_10_44</td>\n",
       "      <td>TS_KMeans_no_cluster_10_44</td>\n",
       "      <td>TS_KShape_no_cluster_10_44</td>\n",
       "    </tr>\n",
       "    <tr>\n",
       "      <th>45</th>\n",
       "      <td>45</td>\n",
       "      <td>45</td>\n",
       "      <td>yes</td>\n",
       "      <td>yes</td>\n",
       "      <td>14</td>\n",
       "      <td>no</td>\n",
       "      <td>0.01</td>\n",
       "      <td>45</td>\n",
       "      <td>KMedoids_no_cluster_3_45</td>\n",
       "      <td>KMeans_no_cluster_3_45</td>\n",
       "      <td>...</td>\n",
       "      <td>KMedoids_no_cluster_5_45</td>\n",
       "      <td>KMeans_no_cluster_5_45</td>\n",
       "      <td>DBSCAN_no_cluster_5_45</td>\n",
       "      <td>TS_KMeans_no_cluster_5_45</td>\n",
       "      <td>TS_KShape_no_cluster_5_45</td>\n",
       "      <td>KMedoids_no_cluster_10_45</td>\n",
       "      <td>KMeans_no_cluster_10_45</td>\n",
       "      <td>DBSCAN_no_cluster_10_45</td>\n",
       "      <td>TS_KMeans_no_cluster_10_45</td>\n",
       "      <td>TS_KShape_no_cluster_10_45</td>\n",
       "    </tr>\n",
       "    <tr>\n",
       "      <th>46</th>\n",
       "      <td>46</td>\n",
       "      <td>46</td>\n",
       "      <td>yes</td>\n",
       "      <td>yes</td>\n",
       "      <td>14</td>\n",
       "      <td>yes</td>\n",
       "      <td>0.05</td>\n",
       "      <td>46</td>\n",
       "      <td>KMedoids_no_cluster_3_46</td>\n",
       "      <td>KMeans_no_cluster_3_46</td>\n",
       "      <td>...</td>\n",
       "      <td>KMedoids_no_cluster_5_46</td>\n",
       "      <td>KMeans_no_cluster_5_46</td>\n",
       "      <td>DBSCAN_no_cluster_5_46</td>\n",
       "      <td>TS_KMeans_no_cluster_5_46</td>\n",
       "      <td>TS_KShape_no_cluster_5_46</td>\n",
       "      <td>KMedoids_no_cluster_10_46</td>\n",
       "      <td>KMeans_no_cluster_10_46</td>\n",
       "      <td>DBSCAN_no_cluster_10_46</td>\n",
       "      <td>TS_KMeans_no_cluster_10_46</td>\n",
       "      <td>TS_KShape_no_cluster_10_46</td>\n",
       "    </tr>\n",
       "    <tr>\n",
       "      <th>47</th>\n",
       "      <td>47</td>\n",
       "      <td>47</td>\n",
       "      <td>yes</td>\n",
       "      <td>yes</td>\n",
       "      <td>14</td>\n",
       "      <td>yes</td>\n",
       "      <td>0.01</td>\n",
       "      <td>47</td>\n",
       "      <td>KMedoids_no_cluster_3_47</td>\n",
       "      <td>KMeans_no_cluster_3_47</td>\n",
       "      <td>...</td>\n",
       "      <td>KMedoids_no_cluster_5_47</td>\n",
       "      <td>KMeans_no_cluster_5_47</td>\n",
       "      <td>DBSCAN_no_cluster_5_47</td>\n",
       "      <td>TS_KMeans_no_cluster_5_47</td>\n",
       "      <td>TS_KShape_no_cluster_5_47</td>\n",
       "      <td>KMedoids_no_cluster_10_47</td>\n",
       "      <td>KMeans_no_cluster_10_47</td>\n",
       "      <td>DBSCAN_no_cluster_10_47</td>\n",
       "      <td>TS_KMeans_no_cluster_10_47</td>\n",
       "      <td>TS_KShape_no_cluster_10_47</td>\n",
       "    </tr>\n",
       "  </tbody>\n",
       "</table>\n",
       "<p>48 rows × 28 columns</p>\n",
       "</div>"
      ],
      "text/plain": [
       "    Unnamed: 0  Unnamed: 0.1 divide_by_country_population do_smoothing  \\\n",
       "0            0             0                           no           no   \n",
       "1            1             1                           no           no   \n",
       "2            2             2                           no           no   \n",
       "3            3             3                           no           no   \n",
       "4            4             4                           no           no   \n",
       "5            5             5                           no           no   \n",
       "6            6             6                           no           no   \n",
       "7            7             7                           no           no   \n",
       "8            8             8                           no           no   \n",
       "9            9             9                           no           no   \n",
       "10          10            10                           no           no   \n",
       "11          11            11                           no           no   \n",
       "12          12            12                           no          yes   \n",
       "13          13            13                           no          yes   \n",
       "14          14            14                           no          yes   \n",
       "15          15            15                           no          yes   \n",
       "16          16            16                           no          yes   \n",
       "17          17            17                           no          yes   \n",
       "18          18            18                           no          yes   \n",
       "19          19            19                           no          yes   \n",
       "20          20            20                           no          yes   \n",
       "21          21            21                           no          yes   \n",
       "22          22            22                           no          yes   \n",
       "23          23            23                           no          yes   \n",
       "24          24            24                          yes           no   \n",
       "25          25            25                          yes           no   \n",
       "26          26            26                          yes           no   \n",
       "27          27            27                          yes           no   \n",
       "28          28            28                          yes           no   \n",
       "29          29            29                          yes           no   \n",
       "30          30            30                          yes           no   \n",
       "31          31            31                          yes           no   \n",
       "32          32            32                          yes           no   \n",
       "33          33            33                          yes           no   \n",
       "34          34            34                          yes           no   \n",
       "35          35            35                          yes           no   \n",
       "36          36            36                          yes          yes   \n",
       "37          37            37                          yes          yes   \n",
       "38          38            38                          yes          yes   \n",
       "39          39            39                          yes          yes   \n",
       "40          40            40                          yes          yes   \n",
       "41          41            41                          yes          yes   \n",
       "42          42            42                          yes          yes   \n",
       "43          43            43                          yes          yes   \n",
       "44          44            44                          yes          yes   \n",
       "45          45            45                          yes          yes   \n",
       "46          46            46                          yes          yes   \n",
       "47          47            47                          yes          yes   \n",
       "\n",
       "    nr_days_for_avg do_data_augmentation  percent_varianz  filename  \\\n",
       "0                 3                   no             0.05         0   \n",
       "1                 3                   no             0.01         1   \n",
       "2                 3                  yes             0.05         2   \n",
       "3                 3                  yes             0.01         3   \n",
       "4                 7                   no             0.05         4   \n",
       "5                 7                   no             0.01         5   \n",
       "6                 7                  yes             0.05         6   \n",
       "7                 7                  yes             0.01         7   \n",
       "8                14                   no             0.05         8   \n",
       "9                14                   no             0.01         9   \n",
       "10               14                  yes             0.05        10   \n",
       "11               14                  yes             0.01        11   \n",
       "12                3                   no             0.05        12   \n",
       "13                3                   no             0.01        13   \n",
       "14                3                  yes             0.05        14   \n",
       "15                3                  yes             0.01        15   \n",
       "16                7                   no             0.05        16   \n",
       "17                7                   no             0.01        17   \n",
       "18                7                  yes             0.05        18   \n",
       "19                7                  yes             0.01        19   \n",
       "20               14                   no             0.05        20   \n",
       "21               14                   no             0.01        21   \n",
       "22               14                  yes             0.05        22   \n",
       "23               14                  yes             0.01        23   \n",
       "24                3                   no             0.05        24   \n",
       "25                3                   no             0.01        25   \n",
       "26                3                  yes             0.05        26   \n",
       "27                3                  yes             0.01        27   \n",
       "28                7                   no             0.05        28   \n",
       "29                7                   no             0.01        29   \n",
       "30                7                  yes             0.05        30   \n",
       "31                7                  yes             0.01        31   \n",
       "32               14                   no             0.05        32   \n",
       "33               14                   no             0.01        33   \n",
       "34               14                  yes             0.05        34   \n",
       "35               14                  yes             0.01        35   \n",
       "36                3                   no             0.05        36   \n",
       "37                3                   no             0.01        37   \n",
       "38                3                  yes             0.05        38   \n",
       "39                3                  yes             0.01        39   \n",
       "40                7                   no             0.05        40   \n",
       "41                7                   no             0.01        41   \n",
       "42                7                  yes             0.05        42   \n",
       "43                7                  yes             0.01        43   \n",
       "44               14                   no             0.05        44   \n",
       "45               14                   no             0.01        45   \n",
       "46               14                  yes             0.05        46   \n",
       "47               14                  yes             0.01        47   \n",
       "\n",
       "         kmedoids_3_filename       kmeans_3_filename  ...  \\\n",
       "0    KMedoids_no_cluster_3_0   KMeans_no_cluster_3_0  ...   \n",
       "1    KMedoids_no_cluster_3_1   KMeans_no_cluster_3_1  ...   \n",
       "2    KMedoids_no_cluster_3_2   KMeans_no_cluster_3_2  ...   \n",
       "3    KMedoids_no_cluster_3_3   KMeans_no_cluster_3_3  ...   \n",
       "4    KMedoids_no_cluster_3_4   KMeans_no_cluster_3_4  ...   \n",
       "5    KMedoids_no_cluster_3_5   KMeans_no_cluster_3_5  ...   \n",
       "6    KMedoids_no_cluster_3_6   KMeans_no_cluster_3_6  ...   \n",
       "7    KMedoids_no_cluster_3_7   KMeans_no_cluster_3_7  ...   \n",
       "8    KMedoids_no_cluster_3_8   KMeans_no_cluster_3_8  ...   \n",
       "9    KMedoids_no_cluster_3_9   KMeans_no_cluster_3_9  ...   \n",
       "10  KMedoids_no_cluster_3_10  KMeans_no_cluster_3_10  ...   \n",
       "11  KMedoids_no_cluster_3_11  KMeans_no_cluster_3_11  ...   \n",
       "12  KMedoids_no_cluster_3_12  KMeans_no_cluster_3_12  ...   \n",
       "13  KMedoids_no_cluster_3_13  KMeans_no_cluster_3_13  ...   \n",
       "14  KMedoids_no_cluster_3_14  KMeans_no_cluster_3_14  ...   \n",
       "15  KMedoids_no_cluster_3_15  KMeans_no_cluster_3_15  ...   \n",
       "16  KMedoids_no_cluster_3_16  KMeans_no_cluster_3_16  ...   \n",
       "17  KMedoids_no_cluster_3_17  KMeans_no_cluster_3_17  ...   \n",
       "18  KMedoids_no_cluster_3_18  KMeans_no_cluster_3_18  ...   \n",
       "19  KMedoids_no_cluster_3_19  KMeans_no_cluster_3_19  ...   \n",
       "20  KMedoids_no_cluster_3_20  KMeans_no_cluster_3_20  ...   \n",
       "21  KMedoids_no_cluster_3_21  KMeans_no_cluster_3_21  ...   \n",
       "22  KMedoids_no_cluster_3_22  KMeans_no_cluster_3_22  ...   \n",
       "23  KMedoids_no_cluster_3_23  KMeans_no_cluster_3_23  ...   \n",
       "24  KMedoids_no_cluster_3_24  KMeans_no_cluster_3_24  ...   \n",
       "25  KMedoids_no_cluster_3_25  KMeans_no_cluster_3_25  ...   \n",
       "26  KMedoids_no_cluster_3_26  KMeans_no_cluster_3_26  ...   \n",
       "27  KMedoids_no_cluster_3_27  KMeans_no_cluster_3_27  ...   \n",
       "28  KMedoids_no_cluster_3_28  KMeans_no_cluster_3_28  ...   \n",
       "29  KMedoids_no_cluster_3_29  KMeans_no_cluster_3_29  ...   \n",
       "30  KMedoids_no_cluster_3_30  KMeans_no_cluster_3_30  ...   \n",
       "31  KMedoids_no_cluster_3_31  KMeans_no_cluster_3_31  ...   \n",
       "32  KMedoids_no_cluster_3_32  KMeans_no_cluster_3_32  ...   \n",
       "33  KMedoids_no_cluster_3_33  KMeans_no_cluster_3_33  ...   \n",
       "34  KMedoids_no_cluster_3_34  KMeans_no_cluster_3_34  ...   \n",
       "35  KMedoids_no_cluster_3_35  KMeans_no_cluster_3_35  ...   \n",
       "36  KMedoids_no_cluster_3_36  KMeans_no_cluster_3_36  ...   \n",
       "37  KMedoids_no_cluster_3_37  KMeans_no_cluster_3_37  ...   \n",
       "38  KMedoids_no_cluster_3_38  KMeans_no_cluster_3_38  ...   \n",
       "39  KMedoids_no_cluster_3_39  KMeans_no_cluster_3_39  ...   \n",
       "40  KMedoids_no_cluster_3_40  KMeans_no_cluster_3_40  ...   \n",
       "41  KMedoids_no_cluster_3_41  KMeans_no_cluster_3_41  ...   \n",
       "42  KMedoids_no_cluster_3_42  KMeans_no_cluster_3_42  ...   \n",
       "43  KMedoids_no_cluster_3_43  KMeans_no_cluster_3_43  ...   \n",
       "44  KMedoids_no_cluster_3_44  KMeans_no_cluster_3_44  ...   \n",
       "45  KMedoids_no_cluster_3_45  KMeans_no_cluster_3_45  ...   \n",
       "46  KMedoids_no_cluster_3_46  KMeans_no_cluster_3_46  ...   \n",
       "47  KMedoids_no_cluster_3_47  KMeans_no_cluster_3_47  ...   \n",
       "\n",
       "         kmedoids_5_filename       kmeans_5_filename       dbscan_5_filename  \\\n",
       "0    KMedoids_no_cluster_5_0   KMeans_no_cluster_5_0   DBSCAN_no_cluster_5_0   \n",
       "1    KMedoids_no_cluster_5_1   KMeans_no_cluster_5_1   DBSCAN_no_cluster_5_1   \n",
       "2    KMedoids_no_cluster_5_2   KMeans_no_cluster_5_2   DBSCAN_no_cluster_5_2   \n",
       "3    KMedoids_no_cluster_5_3   KMeans_no_cluster_5_3   DBSCAN_no_cluster_5_3   \n",
       "4    KMedoids_no_cluster_5_4   KMeans_no_cluster_5_4   DBSCAN_no_cluster_5_4   \n",
       "5    KMedoids_no_cluster_5_5   KMeans_no_cluster_5_5   DBSCAN_no_cluster_5_5   \n",
       "6    KMedoids_no_cluster_5_6   KMeans_no_cluster_5_6   DBSCAN_no_cluster_5_6   \n",
       "7    KMedoids_no_cluster_5_7   KMeans_no_cluster_5_7   DBSCAN_no_cluster_5_7   \n",
       "8    KMedoids_no_cluster_5_8   KMeans_no_cluster_5_8   DBSCAN_no_cluster_5_8   \n",
       "9    KMedoids_no_cluster_5_9   KMeans_no_cluster_5_9   DBSCAN_no_cluster_5_9   \n",
       "10  KMedoids_no_cluster_5_10  KMeans_no_cluster_5_10  DBSCAN_no_cluster_5_10   \n",
       "11  KMedoids_no_cluster_5_11  KMeans_no_cluster_5_11  DBSCAN_no_cluster_5_11   \n",
       "12  KMedoids_no_cluster_5_12  KMeans_no_cluster_5_12  DBSCAN_no_cluster_5_12   \n",
       "13  KMedoids_no_cluster_5_13  KMeans_no_cluster_5_13  DBSCAN_no_cluster_5_13   \n",
       "14  KMedoids_no_cluster_5_14  KMeans_no_cluster_5_14  DBSCAN_no_cluster_5_14   \n",
       "15  KMedoids_no_cluster_5_15  KMeans_no_cluster_5_15  DBSCAN_no_cluster_5_15   \n",
       "16  KMedoids_no_cluster_5_16  KMeans_no_cluster_5_16  DBSCAN_no_cluster_5_16   \n",
       "17  KMedoids_no_cluster_5_17  KMeans_no_cluster_5_17  DBSCAN_no_cluster_5_17   \n",
       "18  KMedoids_no_cluster_5_18  KMeans_no_cluster_5_18  DBSCAN_no_cluster_5_18   \n",
       "19  KMedoids_no_cluster_5_19  KMeans_no_cluster_5_19  DBSCAN_no_cluster_5_19   \n",
       "20  KMedoids_no_cluster_5_20  KMeans_no_cluster_5_20  DBSCAN_no_cluster_5_20   \n",
       "21  KMedoids_no_cluster_5_21  KMeans_no_cluster_5_21  DBSCAN_no_cluster_5_21   \n",
       "22  KMedoids_no_cluster_5_22  KMeans_no_cluster_5_22  DBSCAN_no_cluster_5_22   \n",
       "23  KMedoids_no_cluster_5_23  KMeans_no_cluster_5_23  DBSCAN_no_cluster_5_23   \n",
       "24  KMedoids_no_cluster_5_24  KMeans_no_cluster_5_24  DBSCAN_no_cluster_5_24   \n",
       "25  KMedoids_no_cluster_5_25  KMeans_no_cluster_5_25  DBSCAN_no_cluster_5_25   \n",
       "26  KMedoids_no_cluster_5_26  KMeans_no_cluster_5_26  DBSCAN_no_cluster_5_26   \n",
       "27  KMedoids_no_cluster_5_27  KMeans_no_cluster_5_27  DBSCAN_no_cluster_5_27   \n",
       "28  KMedoids_no_cluster_5_28  KMeans_no_cluster_5_28  DBSCAN_no_cluster_5_28   \n",
       "29  KMedoids_no_cluster_5_29  KMeans_no_cluster_5_29  DBSCAN_no_cluster_5_29   \n",
       "30  KMedoids_no_cluster_5_30  KMeans_no_cluster_5_30  DBSCAN_no_cluster_5_30   \n",
       "31  KMedoids_no_cluster_5_31  KMeans_no_cluster_5_31  DBSCAN_no_cluster_5_31   \n",
       "32  KMedoids_no_cluster_5_32  KMeans_no_cluster_5_32  DBSCAN_no_cluster_5_32   \n",
       "33  KMedoids_no_cluster_5_33  KMeans_no_cluster_5_33  DBSCAN_no_cluster_5_33   \n",
       "34  KMedoids_no_cluster_5_34  KMeans_no_cluster_5_34  DBSCAN_no_cluster_5_34   \n",
       "35  KMedoids_no_cluster_5_35  KMeans_no_cluster_5_35  DBSCAN_no_cluster_5_35   \n",
       "36  KMedoids_no_cluster_5_36  KMeans_no_cluster_5_36  DBSCAN_no_cluster_5_36   \n",
       "37  KMedoids_no_cluster_5_37  KMeans_no_cluster_5_37  DBSCAN_no_cluster_5_37   \n",
       "38  KMedoids_no_cluster_5_38  KMeans_no_cluster_5_38  DBSCAN_no_cluster_5_38   \n",
       "39  KMedoids_no_cluster_5_39  KMeans_no_cluster_5_39  DBSCAN_no_cluster_5_39   \n",
       "40  KMedoids_no_cluster_5_40  KMeans_no_cluster_5_40  DBSCAN_no_cluster_5_40   \n",
       "41  KMedoids_no_cluster_5_41  KMeans_no_cluster_5_41  DBSCAN_no_cluster_5_41   \n",
       "42  KMedoids_no_cluster_5_42  KMeans_no_cluster_5_42  DBSCAN_no_cluster_5_42   \n",
       "43  KMedoids_no_cluster_5_43  KMeans_no_cluster_5_43  DBSCAN_no_cluster_5_43   \n",
       "44  KMedoids_no_cluster_5_44  KMeans_no_cluster_5_44  DBSCAN_no_cluster_5_44   \n",
       "45  KMedoids_no_cluster_5_45  KMeans_no_cluster_5_45  DBSCAN_no_cluster_5_45   \n",
       "46  KMedoids_no_cluster_5_46  KMeans_no_cluster_5_46  DBSCAN_no_cluster_5_46   \n",
       "47  KMedoids_no_cluster_5_47  KMeans_no_cluster_5_47  DBSCAN_no_cluster_5_47   \n",
       "\n",
       "         ts_kmeans_5_filename       ts_kshape_5_filename  \\\n",
       "0    TS_KMeans_no_cluster_5_0   TS_KShape_no_cluster_5_0   \n",
       "1    TS_KMeans_no_cluster_5_1   TS_KShape_no_cluster_5_1   \n",
       "2    TS_KMeans_no_cluster_5_2   TS_KShape_no_cluster_5_2   \n",
       "3    TS_KMeans_no_cluster_5_3   TS_KShape_no_cluster_5_3   \n",
       "4    TS_KMeans_no_cluster_5_4   TS_KShape_no_cluster_5_4   \n",
       "5    TS_KMeans_no_cluster_5_5   TS_KShape_no_cluster_5_5   \n",
       "6    TS_KMeans_no_cluster_5_6   TS_KShape_no_cluster_5_6   \n",
       "7    TS_KMeans_no_cluster_5_7   TS_KShape_no_cluster_5_7   \n",
       "8    TS_KMeans_no_cluster_5_8   TS_KShape_no_cluster_5_8   \n",
       "9    TS_KMeans_no_cluster_5_9   TS_KShape_no_cluster_5_9   \n",
       "10  TS_KMeans_no_cluster_5_10  TS_KShape_no_cluster_5_10   \n",
       "11  TS_KMeans_no_cluster_5_11  TS_KShape_no_cluster_5_11   \n",
       "12  TS_KMeans_no_cluster_5_12  TS_KShape_no_cluster_5_12   \n",
       "13  TS_KMeans_no_cluster_5_13  TS_KShape_no_cluster_5_13   \n",
       "14  TS_KMeans_no_cluster_5_14  TS_KShape_no_cluster_5_14   \n",
       "15  TS_KMeans_no_cluster_5_15  TS_KShape_no_cluster_5_15   \n",
       "16  TS_KMeans_no_cluster_5_16  TS_KShape_no_cluster_5_16   \n",
       "17  TS_KMeans_no_cluster_5_17  TS_KShape_no_cluster_5_17   \n",
       "18  TS_KMeans_no_cluster_5_18  TS_KShape_no_cluster_5_18   \n",
       "19  TS_KMeans_no_cluster_5_19  TS_KShape_no_cluster_5_19   \n",
       "20  TS_KMeans_no_cluster_5_20  TS_KShape_no_cluster_5_20   \n",
       "21  TS_KMeans_no_cluster_5_21  TS_KShape_no_cluster_5_21   \n",
       "22  TS_KMeans_no_cluster_5_22  TS_KShape_no_cluster_5_22   \n",
       "23  TS_KMeans_no_cluster_5_23  TS_KShape_no_cluster_5_23   \n",
       "24  TS_KMeans_no_cluster_5_24  TS_KShape_no_cluster_5_24   \n",
       "25  TS_KMeans_no_cluster_5_25  TS_KShape_no_cluster_5_25   \n",
       "26  TS_KMeans_no_cluster_5_26  TS_KShape_no_cluster_5_26   \n",
       "27  TS_KMeans_no_cluster_5_27  TS_KShape_no_cluster_5_27   \n",
       "28  TS_KMeans_no_cluster_5_28  TS_KShape_no_cluster_5_28   \n",
       "29  TS_KMeans_no_cluster_5_29  TS_KShape_no_cluster_5_29   \n",
       "30  TS_KMeans_no_cluster_5_30  TS_KShape_no_cluster_5_30   \n",
       "31  TS_KMeans_no_cluster_5_31  TS_KShape_no_cluster_5_31   \n",
       "32  TS_KMeans_no_cluster_5_32  TS_KShape_no_cluster_5_32   \n",
       "33  TS_KMeans_no_cluster_5_33  TS_KShape_no_cluster_5_33   \n",
       "34  TS_KMeans_no_cluster_5_34  TS_KShape_no_cluster_5_34   \n",
       "35  TS_KMeans_no_cluster_5_35  TS_KShape_no_cluster_5_35   \n",
       "36  TS_KMeans_no_cluster_5_36  TS_KShape_no_cluster_5_36   \n",
       "37  TS_KMeans_no_cluster_5_37  TS_KShape_no_cluster_5_37   \n",
       "38  TS_KMeans_no_cluster_5_38  TS_KShape_no_cluster_5_38   \n",
       "39  TS_KMeans_no_cluster_5_39  TS_KShape_no_cluster_5_39   \n",
       "40  TS_KMeans_no_cluster_5_40  TS_KShape_no_cluster_5_40   \n",
       "41  TS_KMeans_no_cluster_5_41  TS_KShape_no_cluster_5_41   \n",
       "42  TS_KMeans_no_cluster_5_42  TS_KShape_no_cluster_5_42   \n",
       "43  TS_KMeans_no_cluster_5_43  TS_KShape_no_cluster_5_43   \n",
       "44  TS_KMeans_no_cluster_5_44  TS_KShape_no_cluster_5_44   \n",
       "45  TS_KMeans_no_cluster_5_45  TS_KShape_no_cluster_5_45   \n",
       "46  TS_KMeans_no_cluster_5_46  TS_KShape_no_cluster_5_46   \n",
       "47  TS_KMeans_no_cluster_5_47  TS_KShape_no_cluster_5_47   \n",
       "\n",
       "         kmedoids_10_filename       kmeans_10_filename  \\\n",
       "0    KMedoids_no_cluster_10_0   KMeans_no_cluster_10_0   \n",
       "1    KMedoids_no_cluster_10_1   KMeans_no_cluster_10_1   \n",
       "2    KMedoids_no_cluster_10_2   KMeans_no_cluster_10_2   \n",
       "3    KMedoids_no_cluster_10_3   KMeans_no_cluster_10_3   \n",
       "4    KMedoids_no_cluster_10_4   KMeans_no_cluster_10_4   \n",
       "5    KMedoids_no_cluster_10_5   KMeans_no_cluster_10_5   \n",
       "6    KMedoids_no_cluster_10_6   KMeans_no_cluster_10_6   \n",
       "7    KMedoids_no_cluster_10_7   KMeans_no_cluster_10_7   \n",
       "8    KMedoids_no_cluster_10_8   KMeans_no_cluster_10_8   \n",
       "9    KMedoids_no_cluster_10_9   KMeans_no_cluster_10_9   \n",
       "10  KMedoids_no_cluster_10_10  KMeans_no_cluster_10_10   \n",
       "11  KMedoids_no_cluster_10_11  KMeans_no_cluster_10_11   \n",
       "12  KMedoids_no_cluster_10_12  KMeans_no_cluster_10_12   \n",
       "13  KMedoids_no_cluster_10_13  KMeans_no_cluster_10_13   \n",
       "14  KMedoids_no_cluster_10_14  KMeans_no_cluster_10_14   \n",
       "15  KMedoids_no_cluster_10_15  KMeans_no_cluster_10_15   \n",
       "16  KMedoids_no_cluster_10_16  KMeans_no_cluster_10_16   \n",
       "17  KMedoids_no_cluster_10_17  KMeans_no_cluster_10_17   \n",
       "18  KMedoids_no_cluster_10_18  KMeans_no_cluster_10_18   \n",
       "19  KMedoids_no_cluster_10_19  KMeans_no_cluster_10_19   \n",
       "20  KMedoids_no_cluster_10_20  KMeans_no_cluster_10_20   \n",
       "21  KMedoids_no_cluster_10_21  KMeans_no_cluster_10_21   \n",
       "22  KMedoids_no_cluster_10_22  KMeans_no_cluster_10_22   \n",
       "23  KMedoids_no_cluster_10_23  KMeans_no_cluster_10_23   \n",
       "24  KMedoids_no_cluster_10_24  KMeans_no_cluster_10_24   \n",
       "25  KMedoids_no_cluster_10_25  KMeans_no_cluster_10_25   \n",
       "26  KMedoids_no_cluster_10_26  KMeans_no_cluster_10_26   \n",
       "27  KMedoids_no_cluster_10_27  KMeans_no_cluster_10_27   \n",
       "28  KMedoids_no_cluster_10_28  KMeans_no_cluster_10_28   \n",
       "29  KMedoids_no_cluster_10_29  KMeans_no_cluster_10_29   \n",
       "30  KMedoids_no_cluster_10_30  KMeans_no_cluster_10_30   \n",
       "31  KMedoids_no_cluster_10_31  KMeans_no_cluster_10_31   \n",
       "32  KMedoids_no_cluster_10_32  KMeans_no_cluster_10_32   \n",
       "33  KMedoids_no_cluster_10_33  KMeans_no_cluster_10_33   \n",
       "34  KMedoids_no_cluster_10_34  KMeans_no_cluster_10_34   \n",
       "35  KMedoids_no_cluster_10_35  KMeans_no_cluster_10_35   \n",
       "36  KMedoids_no_cluster_10_36  KMeans_no_cluster_10_36   \n",
       "37  KMedoids_no_cluster_10_37  KMeans_no_cluster_10_37   \n",
       "38  KMedoids_no_cluster_10_38  KMeans_no_cluster_10_38   \n",
       "39  KMedoids_no_cluster_10_39  KMeans_no_cluster_10_39   \n",
       "40  KMedoids_no_cluster_10_40  KMeans_no_cluster_10_40   \n",
       "41  KMedoids_no_cluster_10_41  KMeans_no_cluster_10_41   \n",
       "42  KMedoids_no_cluster_10_42  KMeans_no_cluster_10_42   \n",
       "43  KMedoids_no_cluster_10_43  KMeans_no_cluster_10_43   \n",
       "44  KMedoids_no_cluster_10_44  KMeans_no_cluster_10_44   \n",
       "45  KMedoids_no_cluster_10_45  KMeans_no_cluster_10_45   \n",
       "46  KMedoids_no_cluster_10_46  KMeans_no_cluster_10_46   \n",
       "47  KMedoids_no_cluster_10_47  KMeans_no_cluster_10_47   \n",
       "\n",
       "         dbscan_10_filename       ts_kmeans_10_filename  \\\n",
       "0    DBSCAN_no_cluster_10_0   TS_KMeans_no_cluster_10_0   \n",
       "1    DBSCAN_no_cluster_10_1   TS_KMeans_no_cluster_10_1   \n",
       "2    DBSCAN_no_cluster_10_2   TS_KMeans_no_cluster_10_2   \n",
       "3    DBSCAN_no_cluster_10_3   TS_KMeans_no_cluster_10_3   \n",
       "4    DBSCAN_no_cluster_10_4   TS_KMeans_no_cluster_10_4   \n",
       "5    DBSCAN_no_cluster_10_5   TS_KMeans_no_cluster_10_5   \n",
       "6    DBSCAN_no_cluster_10_6   TS_KMeans_no_cluster_10_6   \n",
       "7    DBSCAN_no_cluster_10_7   TS_KMeans_no_cluster_10_7   \n",
       "8    DBSCAN_no_cluster_10_8   TS_KMeans_no_cluster_10_8   \n",
       "9    DBSCAN_no_cluster_10_9   TS_KMeans_no_cluster_10_9   \n",
       "10  DBSCAN_no_cluster_10_10  TS_KMeans_no_cluster_10_10   \n",
       "11  DBSCAN_no_cluster_10_11  TS_KMeans_no_cluster_10_11   \n",
       "12  DBSCAN_no_cluster_10_12  TS_KMeans_no_cluster_10_12   \n",
       "13  DBSCAN_no_cluster_10_13  TS_KMeans_no_cluster_10_13   \n",
       "14  DBSCAN_no_cluster_10_14  TS_KMeans_no_cluster_10_14   \n",
       "15  DBSCAN_no_cluster_10_15  TS_KMeans_no_cluster_10_15   \n",
       "16  DBSCAN_no_cluster_10_16  TS_KMeans_no_cluster_10_16   \n",
       "17  DBSCAN_no_cluster_10_17  TS_KMeans_no_cluster_10_17   \n",
       "18  DBSCAN_no_cluster_10_18  TS_KMeans_no_cluster_10_18   \n",
       "19  DBSCAN_no_cluster_10_19  TS_KMeans_no_cluster_10_19   \n",
       "20  DBSCAN_no_cluster_10_20  TS_KMeans_no_cluster_10_20   \n",
       "21  DBSCAN_no_cluster_10_21  TS_KMeans_no_cluster_10_21   \n",
       "22  DBSCAN_no_cluster_10_22  TS_KMeans_no_cluster_10_22   \n",
       "23  DBSCAN_no_cluster_10_23  TS_KMeans_no_cluster_10_23   \n",
       "24  DBSCAN_no_cluster_10_24  TS_KMeans_no_cluster_10_24   \n",
       "25  DBSCAN_no_cluster_10_25  TS_KMeans_no_cluster_10_25   \n",
       "26  DBSCAN_no_cluster_10_26  TS_KMeans_no_cluster_10_26   \n",
       "27  DBSCAN_no_cluster_10_27  TS_KMeans_no_cluster_10_27   \n",
       "28  DBSCAN_no_cluster_10_28  TS_KMeans_no_cluster_10_28   \n",
       "29  DBSCAN_no_cluster_10_29  TS_KMeans_no_cluster_10_29   \n",
       "30  DBSCAN_no_cluster_10_30  TS_KMeans_no_cluster_10_30   \n",
       "31  DBSCAN_no_cluster_10_31  TS_KMeans_no_cluster_10_31   \n",
       "32  DBSCAN_no_cluster_10_32  TS_KMeans_no_cluster_10_32   \n",
       "33  DBSCAN_no_cluster_10_33  TS_KMeans_no_cluster_10_33   \n",
       "34  DBSCAN_no_cluster_10_34  TS_KMeans_no_cluster_10_34   \n",
       "35  DBSCAN_no_cluster_10_35  TS_KMeans_no_cluster_10_35   \n",
       "36  DBSCAN_no_cluster_10_36  TS_KMeans_no_cluster_10_36   \n",
       "37  DBSCAN_no_cluster_10_37  TS_KMeans_no_cluster_10_37   \n",
       "38  DBSCAN_no_cluster_10_38  TS_KMeans_no_cluster_10_38   \n",
       "39  DBSCAN_no_cluster_10_39  TS_KMeans_no_cluster_10_39   \n",
       "40  DBSCAN_no_cluster_10_40  TS_KMeans_no_cluster_10_40   \n",
       "41  DBSCAN_no_cluster_10_41  TS_KMeans_no_cluster_10_41   \n",
       "42  DBSCAN_no_cluster_10_42  TS_KMeans_no_cluster_10_42   \n",
       "43  DBSCAN_no_cluster_10_43  TS_KMeans_no_cluster_10_43   \n",
       "44  DBSCAN_no_cluster_10_44  TS_KMeans_no_cluster_10_44   \n",
       "45  DBSCAN_no_cluster_10_45  TS_KMeans_no_cluster_10_45   \n",
       "46  DBSCAN_no_cluster_10_46  TS_KMeans_no_cluster_10_46   \n",
       "47  DBSCAN_no_cluster_10_47  TS_KMeans_no_cluster_10_47   \n",
       "\n",
       "         ts_kshape_10_filename  \n",
       "0    TS_KShape_no_cluster_10_0  \n",
       "1    TS_KShape_no_cluster_10_1  \n",
       "2    TS_KShape_no_cluster_10_2  \n",
       "3    TS_KShape_no_cluster_10_3  \n",
       "4    TS_KShape_no_cluster_10_4  \n",
       "5    TS_KShape_no_cluster_10_5  \n",
       "6    TS_KShape_no_cluster_10_6  \n",
       "7    TS_KShape_no_cluster_10_7  \n",
       "8    TS_KShape_no_cluster_10_8  \n",
       "9    TS_KShape_no_cluster_10_9  \n",
       "10  TS_KShape_no_cluster_10_10  \n",
       "11  TS_KShape_no_cluster_10_11  \n",
       "12  TS_KShape_no_cluster_10_12  \n",
       "13  TS_KShape_no_cluster_10_13  \n",
       "14  TS_KShape_no_cluster_10_14  \n",
       "15  TS_KShape_no_cluster_10_15  \n",
       "16  TS_KShape_no_cluster_10_16  \n",
       "17  TS_KShape_no_cluster_10_17  \n",
       "18  TS_KShape_no_cluster_10_18  \n",
       "19  TS_KShape_no_cluster_10_19  \n",
       "20  TS_KShape_no_cluster_10_20  \n",
       "21  TS_KShape_no_cluster_10_21  \n",
       "22  TS_KShape_no_cluster_10_22  \n",
       "23  TS_KShape_no_cluster_10_23  \n",
       "24  TS_KShape_no_cluster_10_24  \n",
       "25  TS_KShape_no_cluster_10_25  \n",
       "26  TS_KShape_no_cluster_10_26  \n",
       "27  TS_KShape_no_cluster_10_27  \n",
       "28  TS_KShape_no_cluster_10_28  \n",
       "29  TS_KShape_no_cluster_10_29  \n",
       "30  TS_KShape_no_cluster_10_30  \n",
       "31  TS_KShape_no_cluster_10_31  \n",
       "32  TS_KShape_no_cluster_10_32  \n",
       "33  TS_KShape_no_cluster_10_33  \n",
       "34  TS_KShape_no_cluster_10_34  \n",
       "35  TS_KShape_no_cluster_10_35  \n",
       "36  TS_KShape_no_cluster_10_36  \n",
       "37  TS_KShape_no_cluster_10_37  \n",
       "38  TS_KShape_no_cluster_10_38  \n",
       "39  TS_KShape_no_cluster_10_39  \n",
       "40  TS_KShape_no_cluster_10_40  \n",
       "41  TS_KShape_no_cluster_10_41  \n",
       "42  TS_KShape_no_cluster_10_42  \n",
       "43  TS_KShape_no_cluster_10_43  \n",
       "44  TS_KShape_no_cluster_10_44  \n",
       "45  TS_KShape_no_cluster_10_45  \n",
       "46  TS_KShape_no_cluster_10_46  \n",
       "47  TS_KShape_no_cluster_10_47  \n",
       "\n",
       "[48 rows x 28 columns]"
      ]
     },
     "execution_count": 40,
     "metadata": {},
     "output_type": "execute_result"
    }
   ],
   "source": [
    "overview_df"
   ]
  },
  {
   "cell_type": "code",
   "execution_count": 5,
   "metadata": {},
   "outputs": [],
   "source": [
    "data = []\n",
    "for f in overview_df['filename']:\n",
    "    data.append((load_Examples_from_file(DATASET_PATH + str(f)), f))"
   ]
  },
  {
   "cell_type": "code",
   "execution_count": 16,
   "metadata": {},
   "outputs": [
    {
     "name": "stderr",
     "output_type": "stream",
     "text": [
      "                                                                                                                       \r"
     ]
    }
   ],
   "source": [
    "from tqdm import tqdm\n",
    "n_clusters = [3, 4, 5, 10]\n",
    "models = [cl.KMedoids, cl.KMeans,  cl.DBSCAN, cl.TS_KMeans, cl.TS_KShape]\n",
    "for n in n_clusters:\n",
    "    filenames = []\n",
    "    for m in tqdm(models):\n",
    "        model_names = []\n",
    "        for ex,file in data:\n",
    "            ex.add_padding()\n",
    "            model = m(n, metric='euclidean').fit(ex)\n",
    "            filename = f\"{model.name}_no_cluster_{n}_{file}\"\n",
    "            model.save_model(filename)\n",
    "            model_names.append(filename)\n",
    "        filenames.append(model_names)\n",
    "    overview_df[f'kmedoids_{n}_filename'] = filenames[0]\n",
    "    overview_df[f'kmeans_{n}_filename'] = filenames[1]\n",
    "    overview_df[f'dbscan_{n}_filename'] = filenames[2]\n",
    "    overview_df[f'ts_kmeans_{n}_filename'] = filenames[3]\n",
    "    overview_df[f'ts_kshape_{n}_filename'] = filenames[4]"
   ]
  },
  {
   "cell_type": "code",
   "execution_count": 17,
   "metadata": {},
   "outputs": [],
   "source": [
    "overview_df.to_csv(OVERVIEW_DATASET_PATH + \"_filenames\")"
   ]
  },
  {
   "cell_type": "code",
   "execution_count": 18,
   "metadata": {},
   "outputs": [
    {
     "ename": "NameError",
     "evalue": "name 'var_df' is not defined",
     "output_type": "error",
     "traceback": [
      "\u001b[1;31m---------------------------------------------------------------------------\u001b[0m",
      "\u001b[1;31mNameError\u001b[0m                                 Traceback (most recent call last)",
      "\u001b[1;32m<ipython-input-18-4f8fca862663>\u001b[0m in \u001b[0;36m<module>\u001b[1;34m\u001b[0m\n\u001b[1;32m----> 1\u001b[1;33m \u001b[0mvar_df\u001b[0m\u001b[1;33m[\u001b[0m\u001b[1;33m~\u001b[0m\u001b[0mvar_df\u001b[0m\u001b[1;33m.\u001b[0m\u001b[0mcolumns\u001b[0m\u001b[1;33m[\u001b[0m\u001b[1;33m:\u001b[0m\u001b[1;36m7\u001b[0m\u001b[1;33m]\u001b[0m\u001b[1;33m]\u001b[0m\u001b[1;33m\u001b[0m\u001b[1;33m\u001b[0m\u001b[0m\n\u001b[0m",
      "\u001b[1;31mNameError\u001b[0m: name 'var_df' is not defined"
     ]
    }
   ],
   "source": [
    "var_df[~var_df.columns[:7]]"
   ]
  },
  {
   "cell_type": "code",
   "execution_count": 30,
   "metadata": {},
   "outputs": [
    {
     "name": "stdout",
     "output_type": "stream",
     "text": [
      "huhu\n",
      "huhu\n",
      "huhu\n",
      "huhu\n",
      "huhu\n",
      "huhu\n",
      "huhu\n",
      "huhu\n",
      "huhu\n",
      "huhu\n",
      "huhu\n",
      "huhu\n",
      "huhu\n",
      "huhu\n",
      "huhu\n",
      "huhu\n",
      "huhu\n",
      "huhu\n",
      "huhu\n",
      "huhu\n"
     ]
    }
   ],
   "source": [
    "import copy\n",
    "import pickle\n",
    "var_df = copy.deepcopy(overview_df)\n",
    "df = var_df.to_numpy()\n",
    "for col in range(8,df.shape[1]):\n",
    "    for row in range(var_df.shape[0]):\n",
    "        filename = df[row][col]\n",
    "#         print(filename)\n",
    "        with open(DATASET_PATH + \"model/\" + filename, 'rb') as f:\n",
    "            model = pickle.load(f)\n",
    "            var, n_max, n_min = model.statistics()\n",
    "            df[row][col] = var"
   ]
  },
  {
   "cell_type": "code",
   "execution_count": 43,
   "metadata": {
    "scrolled": false
   },
   "outputs": [
    {
     "data": {
      "text/plain": [
       "Unnamed: 0                            0\n",
       "Unnamed: 0.1                          0\n",
       "divide_by_country_population         no\n",
       "do_smoothing                         no\n",
       "nr_days_for_avg                       3\n",
       "do_data_augmentation                 no\n",
       "percent_varianz                    0.01\n",
       "filename                              0\n",
       "kmedoids_3_filename             464.222\n",
       "kmeans_3_filename               2086.22\n",
       "dbscan_3_filename               8769.56\n",
       "ts_kmeans_3_filename            2086.22\n",
       "ts_kshape_3_filename            169.556\n",
       "kmedoids_4_filename                 341\n",
       "kmeans_4_filename                2407.5\n",
       "dbscan_4_filename                  7041\n",
       "ts_kmeans_4_filename             2231.5\n",
       "ts_kshape_4_filename              321.5\n",
       "kmedoids_5_filename              301.84\n",
       "kmeans_5_filename               2229.84\n",
       "dbscan_5_filename               6082.24\n",
       "ts_kmeans_5_filename            2179.84\n",
       "ts_kshape_5_filename             199.44\n",
       "kmedoids_10_filename             206.56\n",
       "kmeans_10_filename              1378.36\n",
       "dbscan_10_filename              3381.96\n",
       "ts_kmeans_10_filename            954.36\n",
       "ts_kshape_10_filename            170.56\n",
       "dtype: object"
      ]
     },
     "execution_count": 43,
     "metadata": {},
     "output_type": "execute_result"
    }
   ],
   "source": [
    "df_ = pd.DataFrame(df, columns=var_df.columns)\n",
    "df_.min()"
   ]
  },
  {
   "cell_type": "code",
   "execution_count": 66,
   "metadata": {
    "scrolled": false
   },
   "outputs": [
    {
     "name": "stdout",
     "output_type": "stream",
     "text": [
      "   Unnamed: 0 Unnamed: 0.1 divide_by_country_population do_smoothing  \\\n",
      "46         46           46                          yes          yes   \n",
      "\n",
      "   nr_days_for_avg do_data_augmentation percent_varianz filename  \\\n",
      "46              14                  yes            0.05       46   \n",
      "\n",
      "   kmedoids_3_filename kmeans_3_filename  ... kmedoids_5_filename  \\\n",
      "46             542.889           2101.56  ...              403.84   \n",
      "\n",
      "   kmeans_5_filename dbscan_5_filename ts_kmeans_5_filename  \\\n",
      "46           2229.84           7191.04              3185.44   \n",
      "\n",
      "   ts_kshape_5_filename kmedoids_10_filename kmeans_10_filename  \\\n",
      "46              1571.44               256.76            1394.16   \n",
      "\n",
      "   dbscan_10_filename ts_kmeans_10_filename ts_kshape_10_filename  \n",
      "46            4044.96               1362.76                170.56  \n",
      "\n",
      "[1 rows x 28 columns]\n"
     ]
    }
   ],
   "source": [
    "ts_k = df_[df_[\"ts_kshape_10_filename\"] <= 171]\n",
    "print(ts_k)\n",
    "# print(overview_df.iloc[4])\n",
    "with open(DATASET_PATH + \"model/TS_KShape_no_cluster_10_46\", 'rb') as f:\n",
    "            ts_kshape_10 = pickle.load(f)"
   ]
  },
  {
   "cell_type": "code",
   "execution_count": 61,
   "metadata": {},
   "outputs": [
    {
     "data": {
      "application/vnd.plotly.v1+json": {
       "config": {
        "plotlyServerURL": "https://plot.ly"
       },
       "data": [
        {
         "coloraxis": "coloraxis",
         "geo": "geo",
         "hovertemplate": "countryterritoryCode=%{location}<br>color=%{z}<extra></extra>",
         "locations": [
          "ABW",
          "AFG",
          "AGO",
          "AIA",
          "ALB",
          "AND",
          "ARE",
          "ARG",
          "ARM",
          "ATG",
          "AUS",
          "AUT",
          "AZE",
          "BDI",
          "BEL",
          "BEN",
          "BES",
          "BFA",
          "BGD",
          "BGR",
          "BHR",
          "BHS",
          "BIH",
          "BLR",
          "BLZ",
          "BMU",
          "BOL",
          "BRA",
          "BRB",
          "BRN",
          "BTN",
          "BWA",
          "CAF",
          "CAN",
          "CHE",
          "CHL",
          "CHN",
          "CIV",
          "CMR",
          "CNG1925",
          "COD",
          "COG",
          "COL",
          "COM",
          "CPV",
          "CRI",
          "CUB",
          "CUW",
          "CYM",
          "CYP",
          "CZE",
          "DEU",
          "DJI",
          "DMA",
          "DNK",
          "DOM",
          "DZA",
          "ECU",
          "EGY",
          "ERI",
          "ESH",
          "ESP",
          "EST",
          "ETH",
          "FIN",
          "FJI",
          "FLK",
          "FRA",
          "FRO",
          "GAB",
          "GBR",
          "GEO",
          "GGY",
          "GHA",
          "GIB",
          "GIN",
          "GMB",
          "GNB",
          "GNQ",
          "GRC",
          "GRD",
          "GRL",
          "GTM",
          "GUM",
          "GUY",
          "HND",
          "HRV",
          "HTI",
          "HUN",
          "IDN",
          "IMN",
          "IND",
          "IRL",
          "IRN",
          "IRQ",
          "ISL",
          "ISR",
          "ITA",
          "JAM",
          "JEY",
          "JOR",
          "JPN",
          "KAZ",
          "KEN",
          "KGZ",
          "KHM",
          "KNA",
          "KOR",
          "KWT",
          "LAO",
          "LBN",
          "LBR",
          "LBY",
          "LCA",
          "LIE",
          "LKA",
          "LSO",
          "LTU",
          "LUX",
          "LVA",
          "MAR",
          "MCO",
          "MDA",
          "MDG",
          "MDV",
          "MEX",
          "MHL",
          "MKD",
          "MLI",
          "MLT",
          "MMR",
          "MNE",
          "MNG",
          "MNP",
          "MOZ",
          "MRT",
          "MSF",
          "MUS",
          "MWI",
          "MYS",
          "NAM",
          "NCL",
          "NER",
          "NGA",
          "NIC",
          "NLD",
          "NOR",
          "NPL",
          "NZL",
          "OMN",
          "PAK",
          "PAN",
          "PER",
          "PHL",
          "PNG",
          "POL",
          "PRI",
          "PRT",
          "PRY",
          "PSE",
          "PYF",
          "QAT",
          "ROU",
          "RUS",
          "RWA",
          "SAU",
          "SDN",
          "SEN",
          "SGP",
          "SLB",
          "SLE",
          "SLV",
          "SMR",
          "SOM",
          "SRB",
          "SSD",
          "STP",
          "SUR",
          "SVK",
          "SVN",
          "SWE",
          "SWZ",
          "SXM",
          "SYC",
          "SYR",
          "TCA",
          "TCD",
          "TGO",
          "THA",
          "TJK",
          "TLS",
          "TTO",
          "TUN",
          "TUR",
          "TZA",
          "UGA",
          "UKR",
          "URY",
          "USA",
          "UZB",
          "VAT",
          "VCT",
          "VEN",
          "VGB",
          "VIR",
          "VNM",
          "VUT",
          "XKX",
          "YEM",
          "ZAF",
          "ZMB",
          "ZWE"
         ],
         "name": "",
         "type": "choropleth",
         "z": [
          3,
          8,
          4,
          0,
          0,
          4,
          5,
          6,
          0,
          9,
          3,
          1,
          4,
          6,
          7,
          9,
          4,
          0,
          1,
          4,
          9,
          4,
          9,
          6,
          4,
          1,
          6,
          6,
          4,
          5,
          8,
          4,
          3,
          4,
          9,
          8,
          6,
          6,
          3,
          3,
          3,
          4,
          7,
          9,
          2,
          7,
          9,
          8,
          0,
          4,
          8,
          1,
          9,
          8,
          4,
          4,
          6,
          6,
          9,
          6,
          6,
          9,
          4,
          9,
          9,
          5,
          4,
          4,
          8,
          1,
          1,
          9,
          1,
          3,
          8,
          6,
          0,
          1,
          5,
          1,
          6,
          9,
          4,
          9,
          9,
          9,
          9,
          5,
          7,
          8,
          0,
          6,
          6,
          8,
          6,
          0,
          4,
          6,
          1,
          9,
          8,
          4,
          3,
          9,
          8,
          8,
          9,
          4,
          4,
          3,
          6,
          2,
          6,
          6,
          1,
          3,
          8,
          3,
          9,
          8,
          9,
          0,
          0,
          5,
          3,
          4,
          6,
          6,
          1,
          4,
          6,
          4,
          6,
          9,
          9,
          3,
          0,
          0,
          5,
          4,
          9,
          4,
          9,
          8,
          6,
          1,
          3,
          9,
          6,
          9,
          3,
          7,
          6,
          9,
          1,
          8,
          6,
          9,
          8,
          0,
          6,
          4,
          1,
          4,
          8,
          3,
          6,
          6,
          4,
          5,
          9,
          9,
          7,
          0,
          8,
          4,
          9,
          3,
          4,
          3,
          0,
          8,
          9,
          9,
          8,
          1,
          7,
          4,
          9,
          4,
          4,
          0,
          9,
          0,
          4,
          3,
          6,
          8,
          0,
          0,
          4,
          3,
          8,
          4,
          9,
          5,
          9,
          4,
          4,
          9,
          9,
          9
         ]
        }
       ],
       "layout": {
        "coloraxis": {
         "colorbar": {
          "title": {
           "text": "color"
          }
         },
         "colorscale": [
          [
           0,
           "#0d0887"
          ],
          [
           0.1111111111111111,
           "#46039f"
          ],
          [
           0.2222222222222222,
           "#7201a8"
          ],
          [
           0.3333333333333333,
           "#9c179e"
          ],
          [
           0.4444444444444444,
           "#bd3786"
          ],
          [
           0.5555555555555556,
           "#d8576b"
          ],
          [
           0.6666666666666666,
           "#ed7953"
          ],
          [
           0.7777777777777778,
           "#fb9f3a"
          ],
          [
           0.8888888888888888,
           "#fdca26"
          ],
          [
           1,
           "#f0f921"
          ]
         ]
        },
        "geo": {
         "center": {},
         "domain": {
          "x": [
           0,
           1
          ],
          "y": [
           0,
           1
          ]
         }
        },
        "legend": {
         "tracegroupgap": 0
        },
        "margin": {
         "t": 60
        },
        "template": {
         "data": {
          "bar": [
           {
            "error_x": {
             "color": "#2a3f5f"
            },
            "error_y": {
             "color": "#2a3f5f"
            },
            "marker": {
             "line": {
              "color": "#E5ECF6",
              "width": 0.5
             }
            },
            "type": "bar"
           }
          ],
          "barpolar": [
           {
            "marker": {
             "line": {
              "color": "#E5ECF6",
              "width": 0.5
             }
            },
            "type": "barpolar"
           }
          ],
          "carpet": [
           {
            "aaxis": {
             "endlinecolor": "#2a3f5f",
             "gridcolor": "white",
             "linecolor": "white",
             "minorgridcolor": "white",
             "startlinecolor": "#2a3f5f"
            },
            "baxis": {
             "endlinecolor": "#2a3f5f",
             "gridcolor": "white",
             "linecolor": "white",
             "minorgridcolor": "white",
             "startlinecolor": "#2a3f5f"
            },
            "type": "carpet"
           }
          ],
          "choropleth": [
           {
            "colorbar": {
             "outlinewidth": 0,
             "ticks": ""
            },
            "type": "choropleth"
           }
          ],
          "contour": [
           {
            "colorbar": {
             "outlinewidth": 0,
             "ticks": ""
            },
            "colorscale": [
             [
              0,
              "#0d0887"
             ],
             [
              0.1111111111111111,
              "#46039f"
             ],
             [
              0.2222222222222222,
              "#7201a8"
             ],
             [
              0.3333333333333333,
              "#9c179e"
             ],
             [
              0.4444444444444444,
              "#bd3786"
             ],
             [
              0.5555555555555556,
              "#d8576b"
             ],
             [
              0.6666666666666666,
              "#ed7953"
             ],
             [
              0.7777777777777778,
              "#fb9f3a"
             ],
             [
              0.8888888888888888,
              "#fdca26"
             ],
             [
              1,
              "#f0f921"
             ]
            ],
            "type": "contour"
           }
          ],
          "contourcarpet": [
           {
            "colorbar": {
             "outlinewidth": 0,
             "ticks": ""
            },
            "type": "contourcarpet"
           }
          ],
          "heatmap": [
           {
            "colorbar": {
             "outlinewidth": 0,
             "ticks": ""
            },
            "colorscale": [
             [
              0,
              "#0d0887"
             ],
             [
              0.1111111111111111,
              "#46039f"
             ],
             [
              0.2222222222222222,
              "#7201a8"
             ],
             [
              0.3333333333333333,
              "#9c179e"
             ],
             [
              0.4444444444444444,
              "#bd3786"
             ],
             [
              0.5555555555555556,
              "#d8576b"
             ],
             [
              0.6666666666666666,
              "#ed7953"
             ],
             [
              0.7777777777777778,
              "#fb9f3a"
             ],
             [
              0.8888888888888888,
              "#fdca26"
             ],
             [
              1,
              "#f0f921"
             ]
            ],
            "type": "heatmap"
           }
          ],
          "heatmapgl": [
           {
            "colorbar": {
             "outlinewidth": 0,
             "ticks": ""
            },
            "colorscale": [
             [
              0,
              "#0d0887"
             ],
             [
              0.1111111111111111,
              "#46039f"
             ],
             [
              0.2222222222222222,
              "#7201a8"
             ],
             [
              0.3333333333333333,
              "#9c179e"
             ],
             [
              0.4444444444444444,
              "#bd3786"
             ],
             [
              0.5555555555555556,
              "#d8576b"
             ],
             [
              0.6666666666666666,
              "#ed7953"
             ],
             [
              0.7777777777777778,
              "#fb9f3a"
             ],
             [
              0.8888888888888888,
              "#fdca26"
             ],
             [
              1,
              "#f0f921"
             ]
            ],
            "type": "heatmapgl"
           }
          ],
          "histogram": [
           {
            "marker": {
             "colorbar": {
              "outlinewidth": 0,
              "ticks": ""
             }
            },
            "type": "histogram"
           }
          ],
          "histogram2d": [
           {
            "colorbar": {
             "outlinewidth": 0,
             "ticks": ""
            },
            "colorscale": [
             [
              0,
              "#0d0887"
             ],
             [
              0.1111111111111111,
              "#46039f"
             ],
             [
              0.2222222222222222,
              "#7201a8"
             ],
             [
              0.3333333333333333,
              "#9c179e"
             ],
             [
              0.4444444444444444,
              "#bd3786"
             ],
             [
              0.5555555555555556,
              "#d8576b"
             ],
             [
              0.6666666666666666,
              "#ed7953"
             ],
             [
              0.7777777777777778,
              "#fb9f3a"
             ],
             [
              0.8888888888888888,
              "#fdca26"
             ],
             [
              1,
              "#f0f921"
             ]
            ],
            "type": "histogram2d"
           }
          ],
          "histogram2dcontour": [
           {
            "colorbar": {
             "outlinewidth": 0,
             "ticks": ""
            },
            "colorscale": [
             [
              0,
              "#0d0887"
             ],
             [
              0.1111111111111111,
              "#46039f"
             ],
             [
              0.2222222222222222,
              "#7201a8"
             ],
             [
              0.3333333333333333,
              "#9c179e"
             ],
             [
              0.4444444444444444,
              "#bd3786"
             ],
             [
              0.5555555555555556,
              "#d8576b"
             ],
             [
              0.6666666666666666,
              "#ed7953"
             ],
             [
              0.7777777777777778,
              "#fb9f3a"
             ],
             [
              0.8888888888888888,
              "#fdca26"
             ],
             [
              1,
              "#f0f921"
             ]
            ],
            "type": "histogram2dcontour"
           }
          ],
          "mesh3d": [
           {
            "colorbar": {
             "outlinewidth": 0,
             "ticks": ""
            },
            "type": "mesh3d"
           }
          ],
          "parcoords": [
           {
            "line": {
             "colorbar": {
              "outlinewidth": 0,
              "ticks": ""
             }
            },
            "type": "parcoords"
           }
          ],
          "pie": [
           {
            "automargin": true,
            "type": "pie"
           }
          ],
          "scatter": [
           {
            "marker": {
             "colorbar": {
              "outlinewidth": 0,
              "ticks": ""
             }
            },
            "type": "scatter"
           }
          ],
          "scatter3d": [
           {
            "line": {
             "colorbar": {
              "outlinewidth": 0,
              "ticks": ""
             }
            },
            "marker": {
             "colorbar": {
              "outlinewidth": 0,
              "ticks": ""
             }
            },
            "type": "scatter3d"
           }
          ],
          "scattercarpet": [
           {
            "marker": {
             "colorbar": {
              "outlinewidth": 0,
              "ticks": ""
             }
            },
            "type": "scattercarpet"
           }
          ],
          "scattergeo": [
           {
            "marker": {
             "colorbar": {
              "outlinewidth": 0,
              "ticks": ""
             }
            },
            "type": "scattergeo"
           }
          ],
          "scattergl": [
           {
            "marker": {
             "colorbar": {
              "outlinewidth": 0,
              "ticks": ""
             }
            },
            "type": "scattergl"
           }
          ],
          "scattermapbox": [
           {
            "marker": {
             "colorbar": {
              "outlinewidth": 0,
              "ticks": ""
             }
            },
            "type": "scattermapbox"
           }
          ],
          "scatterpolar": [
           {
            "marker": {
             "colorbar": {
              "outlinewidth": 0,
              "ticks": ""
             }
            },
            "type": "scatterpolar"
           }
          ],
          "scatterpolargl": [
           {
            "marker": {
             "colorbar": {
              "outlinewidth": 0,
              "ticks": ""
             }
            },
            "type": "scatterpolargl"
           }
          ],
          "scatterternary": [
           {
            "marker": {
             "colorbar": {
              "outlinewidth": 0,
              "ticks": ""
             }
            },
            "type": "scatterternary"
           }
          ],
          "surface": [
           {
            "colorbar": {
             "outlinewidth": 0,
             "ticks": ""
            },
            "colorscale": [
             [
              0,
              "#0d0887"
             ],
             [
              0.1111111111111111,
              "#46039f"
             ],
             [
              0.2222222222222222,
              "#7201a8"
             ],
             [
              0.3333333333333333,
              "#9c179e"
             ],
             [
              0.4444444444444444,
              "#bd3786"
             ],
             [
              0.5555555555555556,
              "#d8576b"
             ],
             [
              0.6666666666666666,
              "#ed7953"
             ],
             [
              0.7777777777777778,
              "#fb9f3a"
             ],
             [
              0.8888888888888888,
              "#fdca26"
             ],
             [
              1,
              "#f0f921"
             ]
            ],
            "type": "surface"
           }
          ],
          "table": [
           {
            "cells": {
             "fill": {
              "color": "#EBF0F8"
             },
             "line": {
              "color": "white"
             }
            },
            "header": {
             "fill": {
              "color": "#C8D4E3"
             },
             "line": {
              "color": "white"
             }
            },
            "type": "table"
           }
          ]
         },
         "layout": {
          "annotationdefaults": {
           "arrowcolor": "#2a3f5f",
           "arrowhead": 0,
           "arrowwidth": 1
          },
          "coloraxis": {
           "colorbar": {
            "outlinewidth": 0,
            "ticks": ""
           }
          },
          "colorscale": {
           "diverging": [
            [
             0,
             "#8e0152"
            ],
            [
             0.1,
             "#c51b7d"
            ],
            [
             0.2,
             "#de77ae"
            ],
            [
             0.3,
             "#f1b6da"
            ],
            [
             0.4,
             "#fde0ef"
            ],
            [
             0.5,
             "#f7f7f7"
            ],
            [
             0.6,
             "#e6f5d0"
            ],
            [
             0.7,
             "#b8e186"
            ],
            [
             0.8,
             "#7fbc41"
            ],
            [
             0.9,
             "#4d9221"
            ],
            [
             1,
             "#276419"
            ]
           ],
           "sequential": [
            [
             0,
             "#0d0887"
            ],
            [
             0.1111111111111111,
             "#46039f"
            ],
            [
             0.2222222222222222,
             "#7201a8"
            ],
            [
             0.3333333333333333,
             "#9c179e"
            ],
            [
             0.4444444444444444,
             "#bd3786"
            ],
            [
             0.5555555555555556,
             "#d8576b"
            ],
            [
             0.6666666666666666,
             "#ed7953"
            ],
            [
             0.7777777777777778,
             "#fb9f3a"
            ],
            [
             0.8888888888888888,
             "#fdca26"
            ],
            [
             1,
             "#f0f921"
            ]
           ],
           "sequentialminus": [
            [
             0,
             "#0d0887"
            ],
            [
             0.1111111111111111,
             "#46039f"
            ],
            [
             0.2222222222222222,
             "#7201a8"
            ],
            [
             0.3333333333333333,
             "#9c179e"
            ],
            [
             0.4444444444444444,
             "#bd3786"
            ],
            [
             0.5555555555555556,
             "#d8576b"
            ],
            [
             0.6666666666666666,
             "#ed7953"
            ],
            [
             0.7777777777777778,
             "#fb9f3a"
            ],
            [
             0.8888888888888888,
             "#fdca26"
            ],
            [
             1,
             "#f0f921"
            ]
           ]
          },
          "colorway": [
           "#636efa",
           "#EF553B",
           "#00cc96",
           "#ab63fa",
           "#FFA15A",
           "#19d3f3",
           "#FF6692",
           "#B6E880",
           "#FF97FF",
           "#FECB52"
          ],
          "font": {
           "color": "#2a3f5f"
          },
          "geo": {
           "bgcolor": "white",
           "lakecolor": "white",
           "landcolor": "#E5ECF6",
           "showlakes": true,
           "showland": true,
           "subunitcolor": "white"
          },
          "hoverlabel": {
           "align": "left"
          },
          "hovermode": "closest",
          "mapbox": {
           "style": "light"
          },
          "paper_bgcolor": "white",
          "plot_bgcolor": "#E5ECF6",
          "polar": {
           "angularaxis": {
            "gridcolor": "white",
            "linecolor": "white",
            "ticks": ""
           },
           "bgcolor": "#E5ECF6",
           "radialaxis": {
            "gridcolor": "white",
            "linecolor": "white",
            "ticks": ""
           }
          },
          "scene": {
           "xaxis": {
            "backgroundcolor": "#E5ECF6",
            "gridcolor": "white",
            "gridwidth": 2,
            "linecolor": "white",
            "showbackground": true,
            "ticks": "",
            "zerolinecolor": "white"
           },
           "yaxis": {
            "backgroundcolor": "#E5ECF6",
            "gridcolor": "white",
            "gridwidth": 2,
            "linecolor": "white",
            "showbackground": true,
            "ticks": "",
            "zerolinecolor": "white"
           },
           "zaxis": {
            "backgroundcolor": "#E5ECF6",
            "gridcolor": "white",
            "gridwidth": 2,
            "linecolor": "white",
            "showbackground": true,
            "ticks": "",
            "zerolinecolor": "white"
           }
          },
          "shapedefaults": {
           "line": {
            "color": "#2a3f5f"
           }
          },
          "ternary": {
           "aaxis": {
            "gridcolor": "white",
            "linecolor": "white",
            "ticks": ""
           },
           "baxis": {
            "gridcolor": "white",
            "linecolor": "white",
            "ticks": ""
           },
           "bgcolor": "#E5ECF6",
           "caxis": {
            "gridcolor": "white",
            "linecolor": "white",
            "ticks": ""
           }
          },
          "title": {
           "x": 0.05
          },
          "xaxis": {
           "automargin": true,
           "gridcolor": "white",
           "linecolor": "white",
           "ticks": "",
           "title": {
            "standoff": 15
           },
           "zerolinecolor": "white",
           "zerolinewidth": 2
          },
          "yaxis": {
           "automargin": true,
           "gridcolor": "white",
           "linecolor": "white",
           "ticks": "",
           "title": {
            "standoff": 15
           },
           "zerolinecolor": "white",
           "zerolinewidth": 2
          }
         }
        },
        "title": {
         "text": "Clustermethod: TS_KShape, Number Clusters: 10"
        }
       }
      },
      "text/html": [
       "<div>                            <div id=\"230f510a-a2b9-4a49-864d-33dec09917f3\" class=\"plotly-graph-div\" style=\"height:525px; width:100%;\"></div>            <script type=\"text/javascript\">                require([\"plotly\"], function(Plotly) {                    window.PLOTLYENV=window.PLOTLYENV || {};                                    if (document.getElementById(\"230f510a-a2b9-4a49-864d-33dec09917f3\")) {                    Plotly.newPlot(                        \"230f510a-a2b9-4a49-864d-33dec09917f3\",                        [{\"coloraxis\": \"coloraxis\", \"geo\": \"geo\", \"hovertemplate\": \"countryterritoryCode=%{location}<br>color=%{z}<extra></extra>\", \"locations\": [\"ABW\", \"AFG\", \"AGO\", \"AIA\", \"ALB\", \"AND\", \"ARE\", \"ARG\", \"ARM\", \"ATG\", \"AUS\", \"AUT\", \"AZE\", \"BDI\", \"BEL\", \"BEN\", \"BES\", \"BFA\", \"BGD\", \"BGR\", \"BHR\", \"BHS\", \"BIH\", \"BLR\", \"BLZ\", \"BMU\", \"BOL\", \"BRA\", \"BRB\", \"BRN\", \"BTN\", \"BWA\", \"CAF\", \"CAN\", \"CHE\", \"CHL\", \"CHN\", \"CIV\", \"CMR\", \"CNG1925\", \"COD\", \"COG\", \"COL\", \"COM\", \"CPV\", \"CRI\", \"CUB\", \"CUW\", \"CYM\", \"CYP\", \"CZE\", \"DEU\", \"DJI\", \"DMA\", \"DNK\", \"DOM\", \"DZA\", \"ECU\", \"EGY\", \"ERI\", \"ESH\", \"ESP\", \"EST\", \"ETH\", \"FIN\", \"FJI\", \"FLK\", \"FRA\", \"FRO\", \"GAB\", \"GBR\", \"GEO\", \"GGY\", \"GHA\", \"GIB\", \"GIN\", \"GMB\", \"GNB\", \"GNQ\", \"GRC\", \"GRD\", \"GRL\", \"GTM\", \"GUM\", \"GUY\", \"HND\", \"HRV\", \"HTI\", \"HUN\", \"IDN\", \"IMN\", \"IND\", \"IRL\", \"IRN\", \"IRQ\", \"ISL\", \"ISR\", \"ITA\", \"JAM\", \"JEY\", \"JOR\", \"JPN\", \"KAZ\", \"KEN\", \"KGZ\", \"KHM\", \"KNA\", \"KOR\", \"KWT\", \"LAO\", \"LBN\", \"LBR\", \"LBY\", \"LCA\", \"LIE\", \"LKA\", \"LSO\", \"LTU\", \"LUX\", \"LVA\", \"MAR\", \"MCO\", \"MDA\", \"MDG\", \"MDV\", \"MEX\", \"MHL\", \"MKD\", \"MLI\", \"MLT\", \"MMR\", \"MNE\", \"MNG\", \"MNP\", \"MOZ\", \"MRT\", \"MSF\", \"MUS\", \"MWI\", \"MYS\", \"NAM\", \"NCL\", \"NER\", \"NGA\", \"NIC\", \"NLD\", \"NOR\", \"NPL\", \"NZL\", \"OMN\", \"PAK\", \"PAN\", \"PER\", \"PHL\", \"PNG\", \"POL\", \"PRI\", \"PRT\", \"PRY\", \"PSE\", \"PYF\", \"QAT\", \"ROU\", \"RUS\", \"RWA\", \"SAU\", \"SDN\", \"SEN\", \"SGP\", \"SLB\", \"SLE\", \"SLV\", \"SMR\", \"SOM\", \"SRB\", \"SSD\", \"STP\", \"SUR\", \"SVK\", \"SVN\", \"SWE\", \"SWZ\", \"SXM\", \"SYC\", \"SYR\", \"TCA\", \"TCD\", \"TGO\", \"THA\", \"TJK\", \"TLS\", \"TTO\", \"TUN\", \"TUR\", \"TZA\", \"UGA\", \"UKR\", \"URY\", \"USA\", \"UZB\", \"VAT\", \"VCT\", \"VEN\", \"VGB\", \"VIR\", \"VNM\", \"VUT\", \"XKX\", \"YEM\", \"ZAF\", \"ZMB\", \"ZWE\"], \"name\": \"\", \"type\": \"choropleth\", \"z\": [3, 8, 4, 0, 0, 4, 5, 6, 0, 9, 3, 1, 4, 6, 7, 9, 4, 0, 1, 4, 9, 4, 9, 6, 4, 1, 6, 6, 4, 5, 8, 4, 3, 4, 9, 8, 6, 6, 3, 3, 3, 4, 7, 9, 2, 7, 9, 8, 0, 4, 8, 1, 9, 8, 4, 4, 6, 6, 9, 6, 6, 9, 4, 9, 9, 5, 4, 4, 8, 1, 1, 9, 1, 3, 8, 6, 0, 1, 5, 1, 6, 9, 4, 9, 9, 9, 9, 5, 7, 8, 0, 6, 6, 8, 6, 0, 4, 6, 1, 9, 8, 4, 3, 9, 8, 8, 9, 4, 4, 3, 6, 2, 6, 6, 1, 3, 8, 3, 9, 8, 9, 0, 0, 5, 3, 4, 6, 6, 1, 4, 6, 4, 6, 9, 9, 3, 0, 0, 5, 4, 9, 4, 9, 8, 6, 1, 3, 9, 6, 9, 3, 7, 6, 9, 1, 8, 6, 9, 8, 0, 6, 4, 1, 4, 8, 3, 6, 6, 4, 5, 9, 9, 7, 0, 8, 4, 9, 3, 4, 3, 0, 8, 9, 9, 8, 1, 7, 4, 9, 4, 4, 0, 9, 0, 4, 3, 6, 8, 0, 0, 4, 3, 8, 4, 9, 5, 9, 4, 4, 9, 9, 9]}],                        {\"coloraxis\": {\"colorbar\": {\"title\": {\"text\": \"color\"}}, \"colorscale\": [[0.0, \"#0d0887\"], [0.1111111111111111, \"#46039f\"], [0.2222222222222222, \"#7201a8\"], [0.3333333333333333, \"#9c179e\"], [0.4444444444444444, \"#bd3786\"], [0.5555555555555556, \"#d8576b\"], [0.6666666666666666, \"#ed7953\"], [0.7777777777777778, \"#fb9f3a\"], [0.8888888888888888, \"#fdca26\"], [1.0, \"#f0f921\"]]}, \"geo\": {\"center\": {}, \"domain\": {\"x\": [0.0, 1.0], \"y\": [0.0, 1.0]}}, \"legend\": {\"tracegroupgap\": 0}, \"margin\": {\"t\": 60}, \"template\": {\"data\": {\"bar\": [{\"error_x\": {\"color\": \"#2a3f5f\"}, \"error_y\": {\"color\": \"#2a3f5f\"}, \"marker\": {\"line\": {\"color\": \"#E5ECF6\", \"width\": 0.5}}, \"type\": \"bar\"}], \"barpolar\": [{\"marker\": {\"line\": {\"color\": \"#E5ECF6\", \"width\": 0.5}}, \"type\": \"barpolar\"}], \"carpet\": [{\"aaxis\": {\"endlinecolor\": \"#2a3f5f\", \"gridcolor\": \"white\", \"linecolor\": \"white\", \"minorgridcolor\": \"white\", \"startlinecolor\": \"#2a3f5f\"}, \"baxis\": {\"endlinecolor\": \"#2a3f5f\", \"gridcolor\": \"white\", \"linecolor\": \"white\", \"minorgridcolor\": \"white\", \"startlinecolor\": \"#2a3f5f\"}, \"type\": \"carpet\"}], \"choropleth\": [{\"colorbar\": {\"outlinewidth\": 0, \"ticks\": \"\"}, \"type\": \"choropleth\"}], \"contour\": [{\"colorbar\": {\"outlinewidth\": 0, \"ticks\": \"\"}, \"colorscale\": [[0.0, \"#0d0887\"], [0.1111111111111111, \"#46039f\"], [0.2222222222222222, \"#7201a8\"], [0.3333333333333333, \"#9c179e\"], [0.4444444444444444, \"#bd3786\"], [0.5555555555555556, \"#d8576b\"], [0.6666666666666666, \"#ed7953\"], [0.7777777777777778, \"#fb9f3a\"], [0.8888888888888888, \"#fdca26\"], [1.0, \"#f0f921\"]], \"type\": \"contour\"}], \"contourcarpet\": [{\"colorbar\": {\"outlinewidth\": 0, \"ticks\": \"\"}, \"type\": \"contourcarpet\"}], \"heatmap\": [{\"colorbar\": {\"outlinewidth\": 0, \"ticks\": \"\"}, \"colorscale\": [[0.0, \"#0d0887\"], [0.1111111111111111, \"#46039f\"], [0.2222222222222222, \"#7201a8\"], [0.3333333333333333, \"#9c179e\"], [0.4444444444444444, \"#bd3786\"], [0.5555555555555556, \"#d8576b\"], [0.6666666666666666, \"#ed7953\"], [0.7777777777777778, \"#fb9f3a\"], [0.8888888888888888, \"#fdca26\"], [1.0, \"#f0f921\"]], \"type\": \"heatmap\"}], \"heatmapgl\": [{\"colorbar\": {\"outlinewidth\": 0, \"ticks\": \"\"}, \"colorscale\": [[0.0, \"#0d0887\"], [0.1111111111111111, \"#46039f\"], [0.2222222222222222, \"#7201a8\"], [0.3333333333333333, \"#9c179e\"], [0.4444444444444444, \"#bd3786\"], [0.5555555555555556, \"#d8576b\"], [0.6666666666666666, \"#ed7953\"], [0.7777777777777778, \"#fb9f3a\"], [0.8888888888888888, \"#fdca26\"], [1.0, \"#f0f921\"]], \"type\": \"heatmapgl\"}], \"histogram\": [{\"marker\": {\"colorbar\": {\"outlinewidth\": 0, \"ticks\": \"\"}}, \"type\": \"histogram\"}], \"histogram2d\": [{\"colorbar\": {\"outlinewidth\": 0, \"ticks\": \"\"}, \"colorscale\": [[0.0, \"#0d0887\"], [0.1111111111111111, \"#46039f\"], [0.2222222222222222, \"#7201a8\"], [0.3333333333333333, \"#9c179e\"], [0.4444444444444444, \"#bd3786\"], [0.5555555555555556, \"#d8576b\"], [0.6666666666666666, \"#ed7953\"], [0.7777777777777778, \"#fb9f3a\"], [0.8888888888888888, \"#fdca26\"], [1.0, \"#f0f921\"]], \"type\": \"histogram2d\"}], \"histogram2dcontour\": [{\"colorbar\": {\"outlinewidth\": 0, \"ticks\": \"\"}, \"colorscale\": [[0.0, \"#0d0887\"], [0.1111111111111111, \"#46039f\"], [0.2222222222222222, \"#7201a8\"], [0.3333333333333333, \"#9c179e\"], [0.4444444444444444, \"#bd3786\"], [0.5555555555555556, \"#d8576b\"], [0.6666666666666666, \"#ed7953\"], [0.7777777777777778, \"#fb9f3a\"], [0.8888888888888888, \"#fdca26\"], [1.0, \"#f0f921\"]], \"type\": \"histogram2dcontour\"}], \"mesh3d\": [{\"colorbar\": {\"outlinewidth\": 0, \"ticks\": \"\"}, \"type\": \"mesh3d\"}], \"parcoords\": [{\"line\": {\"colorbar\": {\"outlinewidth\": 0, \"ticks\": \"\"}}, \"type\": \"parcoords\"}], \"pie\": [{\"automargin\": true, \"type\": \"pie\"}], \"scatter\": [{\"marker\": {\"colorbar\": {\"outlinewidth\": 0, \"ticks\": \"\"}}, \"type\": \"scatter\"}], \"scatter3d\": [{\"line\": {\"colorbar\": {\"outlinewidth\": 0, \"ticks\": \"\"}}, \"marker\": {\"colorbar\": {\"outlinewidth\": 0, \"ticks\": \"\"}}, \"type\": \"scatter3d\"}], \"scattercarpet\": [{\"marker\": {\"colorbar\": {\"outlinewidth\": 0, \"ticks\": \"\"}}, \"type\": \"scattercarpet\"}], \"scattergeo\": [{\"marker\": {\"colorbar\": {\"outlinewidth\": 0, \"ticks\": \"\"}}, \"type\": \"scattergeo\"}], \"scattergl\": [{\"marker\": {\"colorbar\": {\"outlinewidth\": 0, \"ticks\": \"\"}}, \"type\": \"scattergl\"}], \"scattermapbox\": [{\"marker\": {\"colorbar\": {\"outlinewidth\": 0, \"ticks\": \"\"}}, \"type\": \"scattermapbox\"}], \"scatterpolar\": [{\"marker\": {\"colorbar\": {\"outlinewidth\": 0, \"ticks\": \"\"}}, \"type\": \"scatterpolar\"}], \"scatterpolargl\": [{\"marker\": {\"colorbar\": {\"outlinewidth\": 0, \"ticks\": \"\"}}, \"type\": \"scatterpolargl\"}], \"scatterternary\": [{\"marker\": {\"colorbar\": {\"outlinewidth\": 0, \"ticks\": \"\"}}, \"type\": \"scatterternary\"}], \"surface\": [{\"colorbar\": {\"outlinewidth\": 0, \"ticks\": \"\"}, \"colorscale\": [[0.0, \"#0d0887\"], [0.1111111111111111, \"#46039f\"], [0.2222222222222222, \"#7201a8\"], [0.3333333333333333, \"#9c179e\"], [0.4444444444444444, \"#bd3786\"], [0.5555555555555556, \"#d8576b\"], [0.6666666666666666, \"#ed7953\"], [0.7777777777777778, \"#fb9f3a\"], [0.8888888888888888, \"#fdca26\"], [1.0, \"#f0f921\"]], \"type\": \"surface\"}], \"table\": [{\"cells\": {\"fill\": {\"color\": \"#EBF0F8\"}, \"line\": {\"color\": \"white\"}}, \"header\": {\"fill\": {\"color\": \"#C8D4E3\"}, \"line\": {\"color\": \"white\"}}, \"type\": \"table\"}]}, \"layout\": {\"annotationdefaults\": {\"arrowcolor\": \"#2a3f5f\", \"arrowhead\": 0, \"arrowwidth\": 1}, \"coloraxis\": {\"colorbar\": {\"outlinewidth\": 0, \"ticks\": \"\"}}, \"colorscale\": {\"diverging\": [[0, \"#8e0152\"], [0.1, \"#c51b7d\"], [0.2, \"#de77ae\"], [0.3, \"#f1b6da\"], [0.4, \"#fde0ef\"], [0.5, \"#f7f7f7\"], [0.6, \"#e6f5d0\"], [0.7, \"#b8e186\"], [0.8, \"#7fbc41\"], [0.9, \"#4d9221\"], [1, \"#276419\"]], \"sequential\": [[0.0, \"#0d0887\"], [0.1111111111111111, \"#46039f\"], [0.2222222222222222, \"#7201a8\"], [0.3333333333333333, \"#9c179e\"], [0.4444444444444444, \"#bd3786\"], [0.5555555555555556, \"#d8576b\"], [0.6666666666666666, \"#ed7953\"], [0.7777777777777778, \"#fb9f3a\"], [0.8888888888888888, \"#fdca26\"], [1.0, \"#f0f921\"]], \"sequentialminus\": [[0.0, \"#0d0887\"], [0.1111111111111111, \"#46039f\"], [0.2222222222222222, \"#7201a8\"], [0.3333333333333333, \"#9c179e\"], [0.4444444444444444, \"#bd3786\"], [0.5555555555555556, \"#d8576b\"], [0.6666666666666666, \"#ed7953\"], [0.7777777777777778, \"#fb9f3a\"], [0.8888888888888888, \"#fdca26\"], [1.0, \"#f0f921\"]]}, \"colorway\": [\"#636efa\", \"#EF553B\", \"#00cc96\", \"#ab63fa\", \"#FFA15A\", \"#19d3f3\", \"#FF6692\", \"#B6E880\", \"#FF97FF\", \"#FECB52\"], \"font\": {\"color\": \"#2a3f5f\"}, \"geo\": {\"bgcolor\": \"white\", \"lakecolor\": \"white\", \"landcolor\": \"#E5ECF6\", \"showlakes\": true, \"showland\": true, \"subunitcolor\": \"white\"}, \"hoverlabel\": {\"align\": \"left\"}, \"hovermode\": \"closest\", \"mapbox\": {\"style\": \"light\"}, \"paper_bgcolor\": \"white\", \"plot_bgcolor\": \"#E5ECF6\", \"polar\": {\"angularaxis\": {\"gridcolor\": \"white\", \"linecolor\": \"white\", \"ticks\": \"\"}, \"bgcolor\": \"#E5ECF6\", \"radialaxis\": {\"gridcolor\": \"white\", \"linecolor\": \"white\", \"ticks\": \"\"}}, \"scene\": {\"xaxis\": {\"backgroundcolor\": \"#E5ECF6\", \"gridcolor\": \"white\", \"gridwidth\": 2, \"linecolor\": \"white\", \"showbackground\": true, \"ticks\": \"\", \"zerolinecolor\": \"white\"}, \"yaxis\": {\"backgroundcolor\": \"#E5ECF6\", \"gridcolor\": \"white\", \"gridwidth\": 2, \"linecolor\": \"white\", \"showbackground\": true, \"ticks\": \"\", \"zerolinecolor\": \"white\"}, \"zaxis\": {\"backgroundcolor\": \"#E5ECF6\", \"gridcolor\": \"white\", \"gridwidth\": 2, \"linecolor\": \"white\", \"showbackground\": true, \"ticks\": \"\", \"zerolinecolor\": \"white\"}}, \"shapedefaults\": {\"line\": {\"color\": \"#2a3f5f\"}}, \"ternary\": {\"aaxis\": {\"gridcolor\": \"white\", \"linecolor\": \"white\", \"ticks\": \"\"}, \"baxis\": {\"gridcolor\": \"white\", \"linecolor\": \"white\", \"ticks\": \"\"}, \"bgcolor\": \"#E5ECF6\", \"caxis\": {\"gridcolor\": \"white\", \"linecolor\": \"white\", \"ticks\": \"\"}}, \"title\": {\"x\": 0.05}, \"xaxis\": {\"automargin\": true, \"gridcolor\": \"white\", \"linecolor\": \"white\", \"ticks\": \"\", \"title\": {\"standoff\": 15}, \"zerolinecolor\": \"white\", \"zerolinewidth\": 2}, \"yaxis\": {\"automargin\": true, \"gridcolor\": \"white\", \"linecolor\": \"white\", \"ticks\": \"\", \"title\": {\"standoff\": 15}, \"zerolinecolor\": \"white\", \"zerolinewidth\": 2}}}, \"title\": {\"text\": \"Clustermethod: TS_KShape, Number Clusters: 10\"}},                        {\"responsive\": true}                    ).then(function(){\n",
       "                            \n",
       "var gd = document.getElementById('230f510a-a2b9-4a49-864d-33dec09917f3');\n",
       "var x = new MutationObserver(function (mutations, observer) {{\n",
       "        var display = window.getComputedStyle(gd).display;\n",
       "        if (!display || display === 'none') {{\n",
       "            console.log([gd, 'removed!']);\n",
       "            Plotly.purge(gd);\n",
       "            observer.disconnect();\n",
       "        }}\n",
       "}});\n",
       "\n",
       "// Listen for the removal of the full notebook cells\n",
       "var notebookContainer = gd.closest('#notebook-container');\n",
       "if (notebookContainer) {{\n",
       "    x.observe(notebookContainer, {childList: true});\n",
       "}}\n",
       "\n",
       "// Listen for the clearing of the current output cell\n",
       "var outputEl = gd.closest('.output');\n",
       "if (outputEl) {{\n",
       "    x.observe(outputEl, {childList: true});\n",
       "}}\n",
       "\n",
       "                        })                };                });            </script>        </div>"
      ]
     },
     "metadata": {},
     "output_type": "display_data"
    }
   ],
   "source": [
    "ts_kshape_10.plot_geo_cluster().show()"
   ]
  },
  {
   "cell_type": "code",
   "execution_count": 63,
   "metadata": {
    "scrolled": false
   },
   "outputs": [
    {
     "data": {
      "image/png": "[encoded data removed]",
      "text/plain": [
       "<Figure size 864x2160 with 10 Axes>"
      ]
     },
     "metadata": {
      "needs_background": "light"
     },
     "output_type": "display_data"
    }
   ],
   "source": [
    "ts_kshape_10.plot_cluster().show()"
   ]
  },
  {
   "cell_type": "markdown",
   "metadata": {},
   "source": [
    "### Demonstration of Augmentation/Smoothing"
   ]
  },
  {
   "cell_type": "code",
   "execution_count": 67,
   "metadata": {},
   "outputs": [],
   "source": [
    "germany = []\n",
    "for d in data:\n",
    "    germany.append(list(filter(lambda snippet: snippet.country_id==\"DEU\", d[0].train_data))[0])"
   ]
  },
  {
   "cell_type": "code",
   "execution_count": 69,
   "metadata": {
    "scrolled": false
   },
   "outputs": [
    {
     "data": {
      "image/png": "[encoded data removed]",
      "text/plain": [
       "<Figure size 432x288 with 1 Axes>"
      ]
     },
     "metadata": {
      "needs_background": "light"
     },
     "output_type": "display_data"
    }
   ],
   "source": [
    "import matplotlib.pyplot as plt\n",
    "plt.figure()\n",
    "for g in germany:\n",
    "    plt.plot(g.time_series)\n",
    "plt.xlabel('Different methodologys on german time series')\n",
    "plt.show()"
   ]
  }
 ],
 "metadata": {
  "kernelspec": {
   "display_name": "Python 3",
   "language": "python",
   "name": "python3"
  },
  "language_info": {
   "codemirror_mode": {
    "name": "ipython",
    "version": 3
   },
   "file_extension": ".py",
   "mimetype": "text/x-python",
   "name": "python",
   "nbconvert_exporter": "python",
   "pygments_lexer": "ipython3",
   "version": "3.7.6"
  }
 },
 "nbformat": 4,
 "nbformat_minor": 4
}
