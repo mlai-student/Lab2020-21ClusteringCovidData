{
 "cells": [
  {
   "cell_type": "markdown",
   "metadata": {},
   "source": [
    "**Current log file**"
   ]
  },
  {
   "cell_type": "code",
   "execution_count": null,
   "metadata": {},
   "outputs": [],
   "source": [
    "# PACKAGES\n",
    "import os\n",
    "PROJECT_PATH = os.getcwd().replace(\"notebooks\", \"\")\n",
    "import sys\n",
    "sys.path.append(PROJECT_PATH)\n",
    "from src.data_representation.Examples import load_Examples_from_file\n",
    "from matplotlib import pyplot as plt\n",
    "import pandas as pd\n",
    "import numpy as np\n",
    "import src.model_training.clusters"
   ]
  },
  {
   "cell_type": "code",
   "execution_count": null,
   "metadata": {},
   "outputs": [],
   "source": [
    "# running the project from here wont work since we demand to be in the main directory\n",
    "# Display the log file:\n",
    "\n",
    "log_file = open(PROJECT_PATH + \"run.log\", \"r\")\n",
    "print(log_file.read())\n",
    "log_file.close()"
   ]
  },
  {
   "cell_type": "markdown",
   "metadata": {},
   "source": [
    "**Visualize/Analyse data_generation output**"
   ]
  },
  {
   "cell_type": "code",
   "execution_count": null,
   "metadata": {},
   "outputs": [],
   "source": [
    "# name of the folder where the output of the Example class file is located\n",
    "DATA_GEN_FOLDER_NAME = \"Dec-21-2020\"\n",
    "EXAMPLES_DATASET_PATH = PROJECT_PATH + \"data/\" + DATA_GEN_FOLDER_NAME + \"/1\"\n",
    "\n",
    "snippets = load_Examples_from_file(EXAMPLES_DATASET_PATH)"
   ]
  },
  {
   "cell_type": "code",
   "execution_count": null,
   "metadata": {},
   "outputs": [],
   "source": [
    "print(\"Number train examples: \" + str(len(snippets.train_data)))\n",
    "print(\"Number test examples: \" + str(len(snippets.test_data)))"
   ]
  },
  {
   "cell_type": "code",
   "execution_count": null,
   "metadata": {
    "lines_to_next_cell": 2
   },
   "outputs": [],
   "source": [
    "#Display all snippets in one plot to identify maybe classes of errors\n",
    "all_snippets = snippets.train_data + snippets.test_data\n",
    "for snippet in all_snippets:\n",
    "    plt.plot(snippet.time_series)\n",
    "plt.show()"
   ]
  },
  {
   "cell_type": "code",
   "execution_count": null,
   "metadata": {},
   "outputs": [],
   "source": [
    "#get an overview over the values in all time series using pd hist()\n",
    "values = []\n",
    "for snippet in all_snippets:\n",
    "    for value in snippet.time_series:\n",
    "        values.append(value)\n",
    "pd.DataFrame(values).hist(bins=101)\n",
    "#closer look at smaller values (<bound)\n",
    "bound = 10000\n",
    "pd.DataFrame([x for x in values if (x <bound and x!=0)]).hist(bins=101)\n",
    "\n",
    "\n",
    "\n",
    "#nr/proportion of zero entries: \n",
    "zero_counter = len([i for i, x in enumerate(values) if x == 0])\n",
    "print(\"Number zero entries: \" + str(zero_counter) + \" Proportion: \" + str(zero_counter/len(values)))\n",
    "print(\"Total number entries: \" + str(len(values)))"
   ]
  },
  {
   "cell_type": "code",
   "execution_count": null,
   "metadata": {},
   "outputs": [],
   "source": [
    "#analyse the values itself a little bit: \n",
    "print(\"mean: \"  + str(np.mean(values)))\n",
    "print(\"varianz: \" + str(np.var(values)))\n",
    "ten_quantiles =[np.quantile(values, (i+1)*.10) for i in range(10)]\n",
    "print(\"quantiles (10%, 20% ...): \" +str(ten_quantiles))\n",
    "four_quantiles =[np.quantile(values, (i+1)*.25) for i in range(4)]\n",
    "print(\"four quantiles: \" + str(four_quantiles))\n",
    "\n",
    "\n",
    "#test if there are negative values:\n",
    "neg_values = [x for  x in values if x<0]\n",
    "print(\"Number of negative values: \" + str(len(neg_values)))\n",
    "print(\"Negative values: \" + str(neg_values))"
   ]
  }
 ],
 "metadata": {
  "jupytext": {
   "formats": "ipynb,py:percent",
   "text_representation": {
    "extension": ".py",
    "format_name": "percent",
    "format_version": "1.3",
    "jupytext_version": "1.7.1"
   }
  },
  "kernelspec": {
   "display_name": "Python 3",
   "language": "python",
   "name": "python3"
  },
  "language_info": {
   "codemirror_mode": {
    "name": "ipython",
    "version": 3
   },
   "file_extension": ".py",
   "mimetype": "text/x-python",
   "name": "python",
   "nbconvert_exporter": "python",
   "pygments_lexer": "ipython3",
   "version": "3.7.6"
  }
 },
 "nbformat": 4,
 "nbformat_minor": 4
}
